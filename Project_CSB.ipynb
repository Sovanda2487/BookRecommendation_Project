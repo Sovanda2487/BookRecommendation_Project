{
 "cells": [
  {
   "cell_type": "code",
   "execution_count": 2,
   "metadata": {
    "id": "hgufk3BmSCQk"
   },
   "outputs": [],
   "source": [
    "# Import necessary libraries\n",
    "import numpy as np\n",
    "import pandas as pd\n",
    "import matplotlib.pyplot as plt\n",
    "import seaborn as sns\n",
    "import warnings\n",
    "\n",
    "# Ignore warnings for cleaner output\n",
    "warnings.filterwarnings('ignore')"
   ]
  },
  {
   "cell_type": "code",
   "execution_count": 3,
   "metadata": {
    "id": "jrAoCNoBjU_7"
   },
   "outputs": [],
   "source": [
    "# Load the datasets\n",
    "books = pd.read_csv('Books.csv', encoding='latin1')\n",
    "ratings = pd.read_csv('Ratings.csv', encoding='latin1')\n",
    "users = pd.read_csv('Users.csv', encoding='latin1')"
   ]
  },
  {
   "cell_type": "code",
   "execution_count": 4,
   "metadata": {
    "colab": {
     "base_uri": "https://localhost:8080/",
     "height": 434
    },
    "id": "Tc6XW7YjSwUI",
    "outputId": "42b2bdfa-05b4-49b1-a314-3320c2195d1c"
   },
   "outputs": [
    {
     "data": {
      "text/html": [
       "<div>\n",
       "<style scoped>\n",
       "    .dataframe tbody tr th:only-of-type {\n",
       "        vertical-align: middle;\n",
       "    }\n",
       "\n",
       "    .dataframe tbody tr th {\n",
       "        vertical-align: top;\n",
       "    }\n",
       "\n",
       "    .dataframe thead th {\n",
       "        text-align: right;\n",
       "    }\n",
       "</style>\n",
       "<table border=\"1\" class=\"dataframe\">\n",
       "  <thead>\n",
       "    <tr style=\"text-align: right;\">\n",
       "      <th></th>\n",
       "      <th>ISBN</th>\n",
       "      <th>Book-Title</th>\n",
       "      <th>Book-Author</th>\n",
       "      <th>Year-Of-Publication</th>\n",
       "      <th>Publisher</th>\n",
       "      <th>Image-URL-S</th>\n",
       "      <th>Image-URL-M</th>\n",
       "      <th>Image-URL-L</th>\n",
       "    </tr>\n",
       "  </thead>\n",
       "  <tbody>\n",
       "    <tr>\n",
       "      <th>0</th>\n",
       "      <td>0195153448</td>\n",
       "      <td>Classical Mythology</td>\n",
       "      <td>Mark P. O. Morford</td>\n",
       "      <td>2002</td>\n",
       "      <td>Oxford University Press</td>\n",
       "      <td>http://images.amazon.com/images/P/0195153448.0...</td>\n",
       "      <td>http://images.amazon.com/images/P/0195153448.0...</td>\n",
       "      <td>http://images.amazon.com/images/P/0195153448.0...</td>\n",
       "    </tr>\n",
       "    <tr>\n",
       "      <th>1</th>\n",
       "      <td>0002005018</td>\n",
       "      <td>Clara Callan</td>\n",
       "      <td>Richard Bruce Wright</td>\n",
       "      <td>2001</td>\n",
       "      <td>HarperFlamingo Canada</td>\n",
       "      <td>http://images.amazon.com/images/P/0002005018.0...</td>\n",
       "      <td>http://images.amazon.com/images/P/0002005018.0...</td>\n",
       "      <td>http://images.amazon.com/images/P/0002005018.0...</td>\n",
       "    </tr>\n",
       "    <tr>\n",
       "      <th>2</th>\n",
       "      <td>0060973129</td>\n",
       "      <td>Decision in Normandy</td>\n",
       "      <td>Carlo D'Este</td>\n",
       "      <td>1991</td>\n",
       "      <td>HarperPerennial</td>\n",
       "      <td>http://images.amazon.com/images/P/0060973129.0...</td>\n",
       "      <td>http://images.amazon.com/images/P/0060973129.0...</td>\n",
       "      <td>http://images.amazon.com/images/P/0060973129.0...</td>\n",
       "    </tr>\n",
       "    <tr>\n",
       "      <th>3</th>\n",
       "      <td>0374157065</td>\n",
       "      <td>Flu: The Story of the Great Influenza Pandemic...</td>\n",
       "      <td>Gina Bari Kolata</td>\n",
       "      <td>1999</td>\n",
       "      <td>Farrar Straus Giroux</td>\n",
       "      <td>http://images.amazon.com/images/P/0374157065.0...</td>\n",
       "      <td>http://images.amazon.com/images/P/0374157065.0...</td>\n",
       "      <td>http://images.amazon.com/images/P/0374157065.0...</td>\n",
       "    </tr>\n",
       "    <tr>\n",
       "      <th>4</th>\n",
       "      <td>0393045218</td>\n",
       "      <td>The Mummies of Urumchi</td>\n",
       "      <td>E. J. W. Barber</td>\n",
       "      <td>1999</td>\n",
       "      <td>W. W. Norton &amp;amp; Company</td>\n",
       "      <td>http://images.amazon.com/images/P/0393045218.0...</td>\n",
       "      <td>http://images.amazon.com/images/P/0393045218.0...</td>\n",
       "      <td>http://images.amazon.com/images/P/0393045218.0...</td>\n",
       "    </tr>\n",
       "  </tbody>\n",
       "</table>\n",
       "</div>"
      ],
      "text/plain": [
       "         ISBN                                         Book-Title  \\\n",
       "0  0195153448                                Classical Mythology   \n",
       "1  0002005018                                       Clara Callan   \n",
       "2  0060973129                               Decision in Normandy   \n",
       "3  0374157065  Flu: The Story of the Great Influenza Pandemic...   \n",
       "4  0393045218                             The Mummies of Urumchi   \n",
       "\n",
       "            Book-Author Year-Of-Publication                   Publisher  \\\n",
       "0    Mark P. O. Morford                2002     Oxford University Press   \n",
       "1  Richard Bruce Wright                2001       HarperFlamingo Canada   \n",
       "2          Carlo D'Este                1991             HarperPerennial   \n",
       "3      Gina Bari Kolata                1999        Farrar Straus Giroux   \n",
       "4       E. J. W. Barber                1999  W. W. Norton &amp; Company   \n",
       "\n",
       "                                         Image-URL-S  \\\n",
       "0  http://images.amazon.com/images/P/0195153448.0...   \n",
       "1  http://images.amazon.com/images/P/0002005018.0...   \n",
       "2  http://images.amazon.com/images/P/0060973129.0...   \n",
       "3  http://images.amazon.com/images/P/0374157065.0...   \n",
       "4  http://images.amazon.com/images/P/0393045218.0...   \n",
       "\n",
       "                                         Image-URL-M  \\\n",
       "0  http://images.amazon.com/images/P/0195153448.0...   \n",
       "1  http://images.amazon.com/images/P/0002005018.0...   \n",
       "2  http://images.amazon.com/images/P/0060973129.0...   \n",
       "3  http://images.amazon.com/images/P/0374157065.0...   \n",
       "4  http://images.amazon.com/images/P/0393045218.0...   \n",
       "\n",
       "                                         Image-URL-L  \n",
       "0  http://images.amazon.com/images/P/0195153448.0...  \n",
       "1  http://images.amazon.com/images/P/0002005018.0...  \n",
       "2  http://images.amazon.com/images/P/0060973129.0...  \n",
       "3  http://images.amazon.com/images/P/0374157065.0...  \n",
       "4  http://images.amazon.com/images/P/0393045218.0...  "
      ]
     },
     "execution_count": 4,
     "metadata": {},
     "output_type": "execute_result"
    }
   ],
   "source": [
    "books.head()"
   ]
  },
  {
   "cell_type": "code",
   "execution_count": 5,
   "metadata": {
    "colab": {
     "base_uri": "https://localhost:8080/",
     "height": 206
    },
    "id": "cZBkTSYiSzdA",
    "outputId": "95411712-dfc9-4b69-c235-d706d8a548e4"
   },
   "outputs": [
    {
     "data": {
      "text/html": [
       "<div>\n",
       "<style scoped>\n",
       "    .dataframe tbody tr th:only-of-type {\n",
       "        vertical-align: middle;\n",
       "    }\n",
       "\n",
       "    .dataframe tbody tr th {\n",
       "        vertical-align: top;\n",
       "    }\n",
       "\n",
       "    .dataframe thead th {\n",
       "        text-align: right;\n",
       "    }\n",
       "</style>\n",
       "<table border=\"1\" class=\"dataframe\">\n",
       "  <thead>\n",
       "    <tr style=\"text-align: right;\">\n",
       "      <th></th>\n",
       "      <th>User-ID</th>\n",
       "      <th>ISBN</th>\n",
       "      <th>Book-Rating</th>\n",
       "    </tr>\n",
       "  </thead>\n",
       "  <tbody>\n",
       "    <tr>\n",
       "      <th>0</th>\n",
       "      <td>276725</td>\n",
       "      <td>034545104X</td>\n",
       "      <td>0</td>\n",
       "    </tr>\n",
       "    <tr>\n",
       "      <th>1</th>\n",
       "      <td>276726</td>\n",
       "      <td>0155061224</td>\n",
       "      <td>5</td>\n",
       "    </tr>\n",
       "    <tr>\n",
       "      <th>2</th>\n",
       "      <td>276727</td>\n",
       "      <td>0446520802</td>\n",
       "      <td>0</td>\n",
       "    </tr>\n",
       "    <tr>\n",
       "      <th>3</th>\n",
       "      <td>276729</td>\n",
       "      <td>052165615X</td>\n",
       "      <td>3</td>\n",
       "    </tr>\n",
       "    <tr>\n",
       "      <th>4</th>\n",
       "      <td>276729</td>\n",
       "      <td>0521795028</td>\n",
       "      <td>6</td>\n",
       "    </tr>\n",
       "  </tbody>\n",
       "</table>\n",
       "</div>"
      ],
      "text/plain": [
       "   User-ID        ISBN  Book-Rating\n",
       "0   276725  034545104X            0\n",
       "1   276726  0155061224            5\n",
       "2   276727  0446520802            0\n",
       "3   276729  052165615X            3\n",
       "4   276729  0521795028            6"
      ]
     },
     "execution_count": 5,
     "metadata": {},
     "output_type": "execute_result"
    }
   ],
   "source": [
    "ratings.head()"
   ]
  },
  {
   "cell_type": "code",
   "execution_count": 6,
   "metadata": {
    "colab": {
     "base_uri": "https://localhost:8080/",
     "height": 206
    },
    "id": "IrjAQcJ9S1-E",
    "outputId": "36868707-16ad-4d93-b7ea-868516eecca1"
   },
   "outputs": [
    {
     "data": {
      "text/html": [
       "<div>\n",
       "<style scoped>\n",
       "    .dataframe tbody tr th:only-of-type {\n",
       "        vertical-align: middle;\n",
       "    }\n",
       "\n",
       "    .dataframe tbody tr th {\n",
       "        vertical-align: top;\n",
       "    }\n",
       "\n",
       "    .dataframe thead th {\n",
       "        text-align: right;\n",
       "    }\n",
       "</style>\n",
       "<table border=\"1\" class=\"dataframe\">\n",
       "  <thead>\n",
       "    <tr style=\"text-align: right;\">\n",
       "      <th></th>\n",
       "      <th>User-ID</th>\n",
       "      <th>Location</th>\n",
       "      <th>Age</th>\n",
       "    </tr>\n",
       "  </thead>\n",
       "  <tbody>\n",
       "    <tr>\n",
       "      <th>0</th>\n",
       "      <td>1</td>\n",
       "      <td>nyc, new york, usa</td>\n",
       "      <td>NaN</td>\n",
       "    </tr>\n",
       "    <tr>\n",
       "      <th>1</th>\n",
       "      <td>2</td>\n",
       "      <td>stockton, california, usa</td>\n",
       "      <td>18.0</td>\n",
       "    </tr>\n",
       "    <tr>\n",
       "      <th>2</th>\n",
       "      <td>3</td>\n",
       "      <td>moscow, yukon territory, russia</td>\n",
       "      <td>NaN</td>\n",
       "    </tr>\n",
       "    <tr>\n",
       "      <th>3</th>\n",
       "      <td>4</td>\n",
       "      <td>porto, v.n.gaia, portugal</td>\n",
       "      <td>17.0</td>\n",
       "    </tr>\n",
       "    <tr>\n",
       "      <th>4</th>\n",
       "      <td>5</td>\n",
       "      <td>farnborough, hants, united kingdom</td>\n",
       "      <td>NaN</td>\n",
       "    </tr>\n",
       "  </tbody>\n",
       "</table>\n",
       "</div>"
      ],
      "text/plain": [
       "   User-ID                            Location   Age\n",
       "0        1                  nyc, new york, usa   NaN\n",
       "1        2           stockton, california, usa  18.0\n",
       "2        3     moscow, yukon territory, russia   NaN\n",
       "3        4           porto, v.n.gaia, portugal  17.0\n",
       "4        5  farnborough, hants, united kingdom   NaN"
      ]
     },
     "execution_count": 6,
     "metadata": {},
     "output_type": "execute_result"
    }
   ],
   "source": [
    "users.head()"
   ]
  },
  {
   "cell_type": "code",
   "execution_count": 7,
   "metadata": {
    "colab": {
     "base_uri": "https://localhost:8080/"
    },
    "id": "_FwSVWajS9Rj",
    "outputId": "80f9643f-5d25-4304-d576-7dfb0681723d"
   },
   "outputs": [
    {
     "name": "stdout",
     "output_type": "stream",
     "text": [
      "<class 'pandas.core.frame.DataFrame'>\n",
      "RangeIndex: 271360 entries, 0 to 271359\n",
      "Data columns (total 8 columns):\n",
      " #   Column               Non-Null Count   Dtype \n",
      "---  ------               --------------   ----- \n",
      " 0   ISBN                 271360 non-null  object\n",
      " 1   Book-Title           271360 non-null  object\n",
      " 2   Book-Author          271358 non-null  object\n",
      " 3   Year-Of-Publication  271360 non-null  object\n",
      " 4   Publisher            271358 non-null  object\n",
      " 5   Image-URL-S          271360 non-null  object\n",
      " 6   Image-URL-M          271360 non-null  object\n",
      " 7   Image-URL-L          271357 non-null  object\n",
      "dtypes: object(8)\n",
      "memory usage: 16.6+ MB\n"
     ]
    }
   ],
   "source": [
    "# Check basic info about the datasets\n",
    "books.info()"
   ]
  },
  {
   "cell_type": "code",
   "execution_count": 8,
   "metadata": {
    "colab": {
     "base_uri": "https://localhost:8080/"
    },
    "id": "hdPn9eS8TEW9",
    "outputId": "8c772eac-2ba6-456c-c220-64e77debc4f3"
   },
   "outputs": [
    {
     "name": "stdout",
     "output_type": "stream",
     "text": [
      "<class 'pandas.core.frame.DataFrame'>\n",
      "RangeIndex: 1149780 entries, 0 to 1149779\n",
      "Data columns (total 3 columns):\n",
      " #   Column       Non-Null Count    Dtype \n",
      "---  ------       --------------    ----- \n",
      " 0   User-ID      1149780 non-null  int64 \n",
      " 1   ISBN         1149780 non-null  object\n",
      " 2   Book-Rating  1149780 non-null  int64 \n",
      "dtypes: int64(2), object(1)\n",
      "memory usage: 26.3+ MB\n"
     ]
    }
   ],
   "source": [
    "ratings.info()"
   ]
  },
  {
   "cell_type": "code",
   "execution_count": 9,
   "metadata": {
    "colab": {
     "base_uri": "https://localhost:8080/"
    },
    "id": "CHz9PBrATKg1",
    "outputId": "faf9efdb-93c0-4988-f9c1-e31abd7314f2"
   },
   "outputs": [
    {
     "name": "stdout",
     "output_type": "stream",
     "text": [
      "<class 'pandas.core.frame.DataFrame'>\n",
      "RangeIndex: 278858 entries, 0 to 278857\n",
      "Data columns (total 3 columns):\n",
      " #   Column    Non-Null Count   Dtype  \n",
      "---  ------    --------------   -----  \n",
      " 0   User-ID   278858 non-null  int64  \n",
      " 1   Location  278858 non-null  object \n",
      " 2   Age       168096 non-null  float64\n",
      "dtypes: float64(1), int64(1), object(1)\n",
      "memory usage: 6.4+ MB\n"
     ]
    }
   ],
   "source": [
    "users.info()"
   ]
  },
  {
   "cell_type": "code",
   "execution_count": 10,
   "metadata": {
    "colab": {
     "base_uri": "https://localhost:8080/",
     "height": 449
    },
    "id": "sM3eT9_BTVg2",
    "outputId": "09f32530-1c19-4fe5-8fb8-240de883577a"
   },
   "outputs": [
    {
     "data": {
      "text/html": [
       "<div>\n",
       "<style scoped>\n",
       "    .dataframe tbody tr th:only-of-type {\n",
       "        vertical-align: middle;\n",
       "    }\n",
       "\n",
       "    .dataframe tbody tr th {\n",
       "        vertical-align: top;\n",
       "    }\n",
       "\n",
       "    .dataframe thead th {\n",
       "        text-align: right;\n",
       "    }\n",
       "</style>\n",
       "<table border=\"1\" class=\"dataframe\">\n",
       "  <thead>\n",
       "    <tr style=\"text-align: right;\">\n",
       "      <th></th>\n",
       "      <th>ISBN</th>\n",
       "      <th>Book-Title</th>\n",
       "      <th>Book-Author</th>\n",
       "      <th>Year-Of-Publication</th>\n",
       "      <th>Publisher</th>\n",
       "      <th>Image-URL-S</th>\n",
       "      <th>Image-URL-M</th>\n",
       "      <th>Image-URL-L</th>\n",
       "    </tr>\n",
       "  </thead>\n",
       "  <tbody>\n",
       "    <tr>\n",
       "      <th>count</th>\n",
       "      <td>271360</td>\n",
       "      <td>271360</td>\n",
       "      <td>271358</td>\n",
       "      <td>271360</td>\n",
       "      <td>271358</td>\n",
       "      <td>271360</td>\n",
       "      <td>271360</td>\n",
       "      <td>271357</td>\n",
       "    </tr>\n",
       "    <tr>\n",
       "      <th>unique</th>\n",
       "      <td>271360</td>\n",
       "      <td>242135</td>\n",
       "      <td>102022</td>\n",
       "      <td>202</td>\n",
       "      <td>16807</td>\n",
       "      <td>271044</td>\n",
       "      <td>271044</td>\n",
       "      <td>271041</td>\n",
       "    </tr>\n",
       "    <tr>\n",
       "      <th>top</th>\n",
       "      <td>020130998X</td>\n",
       "      <td>Selected Poems</td>\n",
       "      <td>Agatha Christie</td>\n",
       "      <td>2002</td>\n",
       "      <td>Harlequin</td>\n",
       "      <td>http://images.amazon.com/images/P/155936078X.0...</td>\n",
       "      <td>http://images.amazon.com/images/P/155936078X.0...</td>\n",
       "      <td>http://images.amazon.com/images/P/155936078X.0...</td>\n",
       "    </tr>\n",
       "    <tr>\n",
       "      <th>freq</th>\n",
       "      <td>1</td>\n",
       "      <td>27</td>\n",
       "      <td>632</td>\n",
       "      <td>13903</td>\n",
       "      <td>7535</td>\n",
       "      <td>2</td>\n",
       "      <td>2</td>\n",
       "      <td>2</td>\n",
       "    </tr>\n",
       "  </tbody>\n",
       "</table>\n",
       "</div>"
      ],
      "text/plain": [
       "              ISBN      Book-Title      Book-Author  Year-Of-Publication  \\\n",
       "count       271360          271360           271358               271360   \n",
       "unique      271360          242135           102022                  202   \n",
       "top     020130998X  Selected Poems  Agatha Christie                 2002   \n",
       "freq             1              27              632                13903   \n",
       "\n",
       "        Publisher                                        Image-URL-S  \\\n",
       "count      271358                                             271360   \n",
       "unique      16807                                             271044   \n",
       "top     Harlequin  http://images.amazon.com/images/P/155936078X.0...   \n",
       "freq         7535                                                  2   \n",
       "\n",
       "                                              Image-URL-M  \\\n",
       "count                                              271360   \n",
       "unique                                             271044   \n",
       "top     http://images.amazon.com/images/P/155936078X.0...   \n",
       "freq                                                    2   \n",
       "\n",
       "                                              Image-URL-L  \n",
       "count                                              271357  \n",
       "unique                                             271041  \n",
       "top     http://images.amazon.com/images/P/155936078X.0...  \n",
       "freq                                                    2  "
      ]
     },
     "execution_count": 10,
     "metadata": {},
     "output_type": "execute_result"
    }
   ],
   "source": [
    "# Basic statistics\n",
    "books.describe(include='all')"
   ]
  },
  {
   "cell_type": "code",
   "execution_count": 11,
   "metadata": {
    "colab": {
     "base_uri": "https://localhost:8080/",
     "height": 300
    },
    "id": "wn5XHgOHTbnH",
    "outputId": "952687ec-3c78-4878-f444-15cd8e433d15"
   },
   "outputs": [
    {
     "data": {
      "text/html": [
       "<div>\n",
       "<style scoped>\n",
       "    .dataframe tbody tr th:only-of-type {\n",
       "        vertical-align: middle;\n",
       "    }\n",
       "\n",
       "    .dataframe tbody tr th {\n",
       "        vertical-align: top;\n",
       "    }\n",
       "\n",
       "    .dataframe thead th {\n",
       "        text-align: right;\n",
       "    }\n",
       "</style>\n",
       "<table border=\"1\" class=\"dataframe\">\n",
       "  <thead>\n",
       "    <tr style=\"text-align: right;\">\n",
       "      <th></th>\n",
       "      <th>User-ID</th>\n",
       "      <th>Book-Rating</th>\n",
       "    </tr>\n",
       "  </thead>\n",
       "  <tbody>\n",
       "    <tr>\n",
       "      <th>count</th>\n",
       "      <td>1.149780e+06</td>\n",
       "      <td>1.149780e+06</td>\n",
       "    </tr>\n",
       "    <tr>\n",
       "      <th>mean</th>\n",
       "      <td>1.403864e+05</td>\n",
       "      <td>2.866950e+00</td>\n",
       "    </tr>\n",
       "    <tr>\n",
       "      <th>std</th>\n",
       "      <td>8.056228e+04</td>\n",
       "      <td>3.854184e+00</td>\n",
       "    </tr>\n",
       "    <tr>\n",
       "      <th>min</th>\n",
       "      <td>2.000000e+00</td>\n",
       "      <td>0.000000e+00</td>\n",
       "    </tr>\n",
       "    <tr>\n",
       "      <th>25%</th>\n",
       "      <td>7.034500e+04</td>\n",
       "      <td>0.000000e+00</td>\n",
       "    </tr>\n",
       "    <tr>\n",
       "      <th>50%</th>\n",
       "      <td>1.410100e+05</td>\n",
       "      <td>0.000000e+00</td>\n",
       "    </tr>\n",
       "    <tr>\n",
       "      <th>75%</th>\n",
       "      <td>2.110280e+05</td>\n",
       "      <td>7.000000e+00</td>\n",
       "    </tr>\n",
       "    <tr>\n",
       "      <th>max</th>\n",
       "      <td>2.788540e+05</td>\n",
       "      <td>1.000000e+01</td>\n",
       "    </tr>\n",
       "  </tbody>\n",
       "</table>\n",
       "</div>"
      ],
      "text/plain": [
       "            User-ID   Book-Rating\n",
       "count  1.149780e+06  1.149780e+06\n",
       "mean   1.403864e+05  2.866950e+00\n",
       "std    8.056228e+04  3.854184e+00\n",
       "min    2.000000e+00  0.000000e+00\n",
       "25%    7.034500e+04  0.000000e+00\n",
       "50%    1.410100e+05  0.000000e+00\n",
       "75%    2.110280e+05  7.000000e+00\n",
       "max    2.788540e+05  1.000000e+01"
      ]
     },
     "execution_count": 11,
     "metadata": {},
     "output_type": "execute_result"
    }
   ],
   "source": [
    "ratings.describe()"
   ]
  },
  {
   "cell_type": "code",
   "execution_count": 12,
   "metadata": {
    "colab": {
     "base_uri": "https://localhost:8080/",
     "height": 394
    },
    "id": "wXDIiwo6TkC-",
    "outputId": "238cecc1-c747-42a0-b351-a0b5c30e030f"
   },
   "outputs": [
    {
     "data": {
      "text/html": [
       "<div>\n",
       "<style scoped>\n",
       "    .dataframe tbody tr th:only-of-type {\n",
       "        vertical-align: middle;\n",
       "    }\n",
       "\n",
       "    .dataframe tbody tr th {\n",
       "        vertical-align: top;\n",
       "    }\n",
       "\n",
       "    .dataframe thead th {\n",
       "        text-align: right;\n",
       "    }\n",
       "</style>\n",
       "<table border=\"1\" class=\"dataframe\">\n",
       "  <thead>\n",
       "    <tr style=\"text-align: right;\">\n",
       "      <th></th>\n",
       "      <th>User-ID</th>\n",
       "      <th>Location</th>\n",
       "      <th>Age</th>\n",
       "    </tr>\n",
       "  </thead>\n",
       "  <tbody>\n",
       "    <tr>\n",
       "      <th>count</th>\n",
       "      <td>278858.00000</td>\n",
       "      <td>278858</td>\n",
       "      <td>168096.000000</td>\n",
       "    </tr>\n",
       "    <tr>\n",
       "      <th>unique</th>\n",
       "      <td>NaN</td>\n",
       "      <td>57339</td>\n",
       "      <td>NaN</td>\n",
       "    </tr>\n",
       "    <tr>\n",
       "      <th>top</th>\n",
       "      <td>NaN</td>\n",
       "      <td>london, england, united kingdom</td>\n",
       "      <td>NaN</td>\n",
       "    </tr>\n",
       "    <tr>\n",
       "      <th>freq</th>\n",
       "      <td>NaN</td>\n",
       "      <td>2506</td>\n",
       "      <td>NaN</td>\n",
       "    </tr>\n",
       "    <tr>\n",
       "      <th>mean</th>\n",
       "      <td>139429.50000</td>\n",
       "      <td>NaN</td>\n",
       "      <td>34.751434</td>\n",
       "    </tr>\n",
       "    <tr>\n",
       "      <th>std</th>\n",
       "      <td>80499.51502</td>\n",
       "      <td>NaN</td>\n",
       "      <td>14.428097</td>\n",
       "    </tr>\n",
       "    <tr>\n",
       "      <th>min</th>\n",
       "      <td>1.00000</td>\n",
       "      <td>NaN</td>\n",
       "      <td>0.000000</td>\n",
       "    </tr>\n",
       "    <tr>\n",
       "      <th>25%</th>\n",
       "      <td>69715.25000</td>\n",
       "      <td>NaN</td>\n",
       "      <td>24.000000</td>\n",
       "    </tr>\n",
       "    <tr>\n",
       "      <th>50%</th>\n",
       "      <td>139429.50000</td>\n",
       "      <td>NaN</td>\n",
       "      <td>32.000000</td>\n",
       "    </tr>\n",
       "    <tr>\n",
       "      <th>75%</th>\n",
       "      <td>209143.75000</td>\n",
       "      <td>NaN</td>\n",
       "      <td>44.000000</td>\n",
       "    </tr>\n",
       "    <tr>\n",
       "      <th>max</th>\n",
       "      <td>278858.00000</td>\n",
       "      <td>NaN</td>\n",
       "      <td>244.000000</td>\n",
       "    </tr>\n",
       "  </tbody>\n",
       "</table>\n",
       "</div>"
      ],
      "text/plain": [
       "             User-ID                         Location            Age\n",
       "count   278858.00000                           278858  168096.000000\n",
       "unique           NaN                            57339            NaN\n",
       "top              NaN  london, england, united kingdom            NaN\n",
       "freq             NaN                             2506            NaN\n",
       "mean    139429.50000                              NaN      34.751434\n",
       "std      80499.51502                              NaN      14.428097\n",
       "min          1.00000                              NaN       0.000000\n",
       "25%      69715.25000                              NaN      24.000000\n",
       "50%     139429.50000                              NaN      32.000000\n",
       "75%     209143.75000                              NaN      44.000000\n",
       "max     278858.00000                              NaN     244.000000"
      ]
     },
     "execution_count": 12,
     "metadata": {},
     "output_type": "execute_result"
    }
   ],
   "source": [
    "users.describe(include='all')"
   ]
  },
  {
   "cell_type": "markdown",
   "metadata": {
    "id": "zZ52qrp3T1RK"
   },
   "source": [
    "## **Cleaning and Processing**"
   ]
  },
  {
   "cell_type": "code",
   "execution_count": 13,
   "metadata": {
    "colab": {
     "base_uri": "https://localhost:8080/",
     "height": 335
    },
    "id": "e_DuuGtdTyae",
    "outputId": "7d92694d-e3db-4896-c066-f9290043a11c"
   },
   "outputs": [
    {
     "data": {
      "text/plain": [
       "ISBN                   0\n",
       "Book-Title             0\n",
       "Book-Author            2\n",
       "Year-Of-Publication    0\n",
       "Publisher              2\n",
       "Image-URL-S            0\n",
       "Image-URL-M            0\n",
       "Image-URL-L            3\n",
       "dtype: int64"
      ]
     },
     "execution_count": 13,
     "metadata": {},
     "output_type": "execute_result"
    }
   ],
   "source": [
    "# Check for missing value\n",
    "books.isnull().sum()"
   ]
  },
  {
   "cell_type": "code",
   "execution_count": 14,
   "metadata": {
    "colab": {
     "base_uri": "https://localhost:8080/",
     "height": 178
    },
    "id": "GxvECWy-T8-_",
    "outputId": "bb89b7b5-34b0-47d0-b629-29846edf2a4a"
   },
   "outputs": [
    {
     "data": {
      "text/plain": [
       "User-ID        0\n",
       "ISBN           0\n",
       "Book-Rating    0\n",
       "dtype: int64"
      ]
     },
     "execution_count": 14,
     "metadata": {},
     "output_type": "execute_result"
    }
   ],
   "source": [
    "ratings.isnull().sum()"
   ]
  },
  {
   "cell_type": "code",
   "execution_count": 15,
   "metadata": {
    "colab": {
     "base_uri": "https://localhost:8080/",
     "height": 178
    },
    "id": "aooLf_7BUJ7S",
    "outputId": "15a43b2e-beda-4a0a-e4ba-7a0c627626ff"
   },
   "outputs": [
    {
     "data": {
      "text/plain": [
       "User-ID          0\n",
       "Location         0\n",
       "Age         110762\n",
       "dtype: int64"
      ]
     },
     "execution_count": 15,
     "metadata": {},
     "output_type": "execute_result"
    }
   ],
   "source": [
    "users.isnull().sum()"
   ]
  },
  {
   "cell_type": "code",
   "execution_count": 16,
   "metadata": {
    "colab": {
     "base_uri": "https://localhost:8080/"
    },
    "id": "-v3-CB4GVYb6",
    "outputId": "b22c082e-8123-4366-ae23-fa1f61c67973"
   },
   "outputs": [
    {
     "data": {
      "text/plain": [
       "np.int64(0)"
      ]
     },
     "execution_count": 16,
     "metadata": {},
     "output_type": "execute_result"
    }
   ],
   "source": [
    "# Check for duplicates\n",
    "books.duplicated().sum()"
   ]
  },
  {
   "cell_type": "code",
   "execution_count": 17,
   "metadata": {
    "colab": {
     "base_uri": "https://localhost:8080/"
    },
    "id": "J39LOo_GVdRz",
    "outputId": "beafa63b-4310-4c26-bedd-2d60a0dd1157"
   },
   "outputs": [
    {
     "data": {
      "text/plain": [
       "np.int64(0)"
      ]
     },
     "execution_count": 17,
     "metadata": {},
     "output_type": "execute_result"
    }
   ],
   "source": [
    "ratings.duplicated().sum()"
   ]
  },
  {
   "cell_type": "code",
   "execution_count": 18,
   "metadata": {
    "colab": {
     "base_uri": "https://localhost:8080/"
    },
    "id": "8msDPU3qViUv",
    "outputId": "c84e905d-45fb-4dd8-c218-5fc9fd8ca048"
   },
   "outputs": [
    {
     "data": {
      "text/plain": [
       "np.int64(0)"
      ]
     },
     "execution_count": 18,
     "metadata": {},
     "output_type": "execute_result"
    }
   ],
   "source": [
    "users.duplicated().sum()"
   ]
  },
  {
   "cell_type": "code",
   "execution_count": 19,
   "metadata": {
    "id": "T5Xa_kjsVnem"
   },
   "outputs": [],
   "source": [
    "# Drop rows with missing or irrelevant data in the Ratings and Books datasets\n",
    "ratings.dropna(subset=['User-ID', 'ISBN', 'Book-Rating'], inplace=True)\n",
    "books.dropna(subset=['ISBN', 'Book-Title'], inplace=True)"
   ]
  },
  {
   "cell_type": "code",
   "execution_count": 20,
   "metadata": {
    "id": "2ULHg49ZVvaP"
   },
   "outputs": [],
   "source": [
    "# Handle missing or inconsistent User Age in Users dataset\n",
    "users['Age'].fillna(users['Age'].median(), inplace=True)\n",
    "users['Age'] = users['Age'].apply(lambda x: x if 5 <= x <= 100 else users['Age'].median())"
   ]
  },
  {
   "cell_type": "code",
   "execution_count": 21,
   "metadata": {
    "id": "KmB-IfoaV15h"
   },
   "outputs": [],
   "source": [
    "# Filter books with less than 50 ratings\n",
    "book_rating_counts = ratings['ISBN'].value_counts()\n",
    "popular_books = book_rating_counts[book_rating_counts >= 50].index\n",
    "filtered_ratings = ratings[ratings['ISBN'].isin(popular_books)]"
   ]
  },
  {
   "cell_type": "code",
   "execution_count": 22,
   "metadata": {
    "id": "e5M08tmXV2MR"
   },
   "outputs": [],
   "source": [
    "# Filter users who have rated fewer than 10 books\n",
    "user_rating_counts = filtered_ratings['User-ID'].value_counts()\n",
    "active_users = user_rating_counts[user_rating_counts >= 10].index\n",
    "filtered_ratings = filtered_ratings[filtered_ratings['User-ID'].isin(active_users)]"
   ]
  },
  {
   "cell_type": "code",
   "execution_count": 23,
   "metadata": {
    "colab": {
     "base_uri": "https://localhost:8080/"
    },
    "id": "5uEwKAsYV-Ve",
    "outputId": "98c26c70-2160-4302-ba0c-3058d59a50a2"
   },
   "outputs": [
    {
     "data": {
      "text/plain": [
       "(159397, 3)"
      ]
     },
     "execution_count": 23,
     "metadata": {},
     "output_type": "execute_result"
    }
   ],
   "source": [
    "filtered_ratings.shape"
   ]
  },
  {
   "cell_type": "code",
   "execution_count": 24,
   "metadata": {
    "id": "OWBfuEmDWGAm"
   },
   "outputs": [],
   "source": [
    "# Merge filtered ratings with books and users for a clean dataset\n",
    "merged_df = filtered_ratings.merge(books, on='ISBN').merge(users, on='User-ID')"
   ]
  },
  {
   "cell_type": "code",
   "execution_count": 25,
   "metadata": {
    "colab": {
     "base_uri": "https://localhost:8080/"
    },
    "id": "MWSjlxfbWHsj",
    "outputId": "d565bbe9-d516-408a-8c7f-6d0f5264e670"
   },
   "outputs": [
    {
     "data": {
      "text/plain": [
       "(158283, 12)"
      ]
     },
     "execution_count": 25,
     "metadata": {},
     "output_type": "execute_result"
    }
   ],
   "source": [
    "merged_df.shape"
   ]
  },
  {
   "cell_type": "code",
   "execution_count": 26,
   "metadata": {
    "colab": {
     "base_uri": "https://localhost:8080/",
     "height": 486
    },
    "id": "V1UwbCaSWOcT",
    "outputId": "d43e539f-ddc5-42dc-b2b4-ea60bad8731e"
   },
   "outputs": [
    {
     "data": {
      "text/html": [
       "<div>\n",
       "<style scoped>\n",
       "    .dataframe tbody tr th:only-of-type {\n",
       "        vertical-align: middle;\n",
       "    }\n",
       "\n",
       "    .dataframe tbody tr th {\n",
       "        vertical-align: top;\n",
       "    }\n",
       "\n",
       "    .dataframe thead th {\n",
       "        text-align: right;\n",
       "    }\n",
       "</style>\n",
       "<table border=\"1\" class=\"dataframe\">\n",
       "  <thead>\n",
       "    <tr style=\"text-align: right;\">\n",
       "      <th></th>\n",
       "      <th>User-ID</th>\n",
       "      <th>ISBN</th>\n",
       "      <th>Book-Rating</th>\n",
       "      <th>Book-Title</th>\n",
       "      <th>Book-Author</th>\n",
       "      <th>Year-Of-Publication</th>\n",
       "      <th>Publisher</th>\n",
       "      <th>Image-URL-S</th>\n",
       "      <th>Image-URL-M</th>\n",
       "      <th>Image-URL-L</th>\n",
       "      <th>Location</th>\n",
       "      <th>Age</th>\n",
       "    </tr>\n",
       "  </thead>\n",
       "  <tbody>\n",
       "    <tr>\n",
       "      <th>0</th>\n",
       "      <td>277042</td>\n",
       "      <td>0060505885</td>\n",
       "      <td>0</td>\n",
       "      <td>The Scandalous Summer of Sissy LeBlanc : A Novel</td>\n",
       "      <td>Loraine Despres</td>\n",
       "      <td>2002</td>\n",
       "      <td>Perennial</td>\n",
       "      <td>http://images.amazon.com/images/P/0060505885.0...</td>\n",
       "      <td>http://images.amazon.com/images/P/0060505885.0...</td>\n",
       "      <td>http://images.amazon.com/images/P/0060505885.0...</td>\n",
       "      <td>hiram, georgia, usa</td>\n",
       "      <td>32.0</td>\n",
       "    </tr>\n",
       "    <tr>\n",
       "      <th>1</th>\n",
       "      <td>277042</td>\n",
       "      <td>0061097101</td>\n",
       "      <td>0</td>\n",
       "      <td>The Saving Graces: A Novel</td>\n",
       "      <td>Patricia Gaffney</td>\n",
       "      <td>2000</td>\n",
       "      <td>HarperTorch</td>\n",
       "      <td>http://images.amazon.com/images/P/0061097101.0...</td>\n",
       "      <td>http://images.amazon.com/images/P/0061097101.0...</td>\n",
       "      <td>http://images.amazon.com/images/P/0061097101.0...</td>\n",
       "      <td>hiram, georgia, usa</td>\n",
       "      <td>32.0</td>\n",
       "    </tr>\n",
       "    <tr>\n",
       "      <th>2</th>\n",
       "      <td>277042</td>\n",
       "      <td>0312283709</td>\n",
       "      <td>8</td>\n",
       "      <td>Running with Scissors</td>\n",
       "      <td>Augusten Burroughs</td>\n",
       "      <td>2002</td>\n",
       "      <td>St. Martin's Press</td>\n",
       "      <td>http://images.amazon.com/images/P/0312283709.0...</td>\n",
       "      <td>http://images.amazon.com/images/P/0312283709.0...</td>\n",
       "      <td>http://images.amazon.com/images/P/0312283709.0...</td>\n",
       "      <td>hiram, georgia, usa</td>\n",
       "      <td>32.0</td>\n",
       "    </tr>\n",
       "    <tr>\n",
       "      <th>3</th>\n",
       "      <td>277042</td>\n",
       "      <td>0312983271</td>\n",
       "      <td>0</td>\n",
       "      <td>Full House (Janet Evanovich's Full Series)</td>\n",
       "      <td>Janet Evanovich</td>\n",
       "      <td>2002</td>\n",
       "      <td>St. Martin's Paperbacks</td>\n",
       "      <td>http://images.amazon.com/images/P/0312983271.0...</td>\n",
       "      <td>http://images.amazon.com/images/P/0312983271.0...</td>\n",
       "      <td>http://images.amazon.com/images/P/0312983271.0...</td>\n",
       "      <td>hiram, georgia, usa</td>\n",
       "      <td>32.0</td>\n",
       "    </tr>\n",
       "    <tr>\n",
       "      <th>4</th>\n",
       "      <td>277042</td>\n",
       "      <td>0380731851</td>\n",
       "      <td>0</td>\n",
       "      <td>Mystic River</td>\n",
       "      <td>Dennis Lehane</td>\n",
       "      <td>2002</td>\n",
       "      <td>HarperTorch</td>\n",
       "      <td>http://images.amazon.com/images/P/0380731851.0...</td>\n",
       "      <td>http://images.amazon.com/images/P/0380731851.0...</td>\n",
       "      <td>http://images.amazon.com/images/P/0380731851.0...</td>\n",
       "      <td>hiram, georgia, usa</td>\n",
       "      <td>32.0</td>\n",
       "    </tr>\n",
       "  </tbody>\n",
       "</table>\n",
       "</div>"
      ],
      "text/plain": [
       "   User-ID        ISBN  Book-Rating  \\\n",
       "0   277042  0060505885            0   \n",
       "1   277042  0061097101            0   \n",
       "2   277042  0312283709            8   \n",
       "3   277042  0312983271            0   \n",
       "4   277042  0380731851            0   \n",
       "\n",
       "                                         Book-Title         Book-Author  \\\n",
       "0  The Scandalous Summer of Sissy LeBlanc : A Novel     Loraine Despres   \n",
       "1                        The Saving Graces: A Novel    Patricia Gaffney   \n",
       "2                             Running with Scissors  Augusten Burroughs   \n",
       "3        Full House (Janet Evanovich's Full Series)     Janet Evanovich   \n",
       "4                                      Mystic River       Dennis Lehane   \n",
       "\n",
       "  Year-Of-Publication                Publisher  \\\n",
       "0                2002                Perennial   \n",
       "1                2000              HarperTorch   \n",
       "2                2002       St. Martin's Press   \n",
       "3                2002  St. Martin's Paperbacks   \n",
       "4                2002              HarperTorch   \n",
       "\n",
       "                                         Image-URL-S  \\\n",
       "0  http://images.amazon.com/images/P/0060505885.0...   \n",
       "1  http://images.amazon.com/images/P/0061097101.0...   \n",
       "2  http://images.amazon.com/images/P/0312283709.0...   \n",
       "3  http://images.amazon.com/images/P/0312983271.0...   \n",
       "4  http://images.amazon.com/images/P/0380731851.0...   \n",
       "\n",
       "                                         Image-URL-M  \\\n",
       "0  http://images.amazon.com/images/P/0060505885.0...   \n",
       "1  http://images.amazon.com/images/P/0061097101.0...   \n",
       "2  http://images.amazon.com/images/P/0312283709.0...   \n",
       "3  http://images.amazon.com/images/P/0312983271.0...   \n",
       "4  http://images.amazon.com/images/P/0380731851.0...   \n",
       "\n",
       "                                         Image-URL-L             Location  \\\n",
       "0  http://images.amazon.com/images/P/0060505885.0...  hiram, georgia, usa   \n",
       "1  http://images.amazon.com/images/P/0061097101.0...  hiram, georgia, usa   \n",
       "2  http://images.amazon.com/images/P/0312283709.0...  hiram, georgia, usa   \n",
       "3  http://images.amazon.com/images/P/0312983271.0...  hiram, georgia, usa   \n",
       "4  http://images.amazon.com/images/P/0380731851.0...  hiram, georgia, usa   \n",
       "\n",
       "    Age  \n",
       "0  32.0  \n",
       "1  32.0  \n",
       "2  32.0  \n",
       "3  32.0  \n",
       "4  32.0  "
      ]
     },
     "execution_count": 26,
     "metadata": {},
     "output_type": "execute_result"
    }
   ],
   "source": [
    "merged_df.head()"
   ]
  },
  {
   "cell_type": "markdown",
   "metadata": {
    "id": "sIxpit-0WiUD"
   },
   "source": [
    "## **Exploratory Data Analysis (EDA)**"
   ]
  },
  {
   "cell_type": "code",
   "execution_count": 27,
   "metadata": {
    "colab": {
     "base_uri": "https://localhost:8080/",
     "height": 570
    },
    "id": "W5GtankAWliL",
    "outputId": "101394ae-ef8c-4d87-fe9d-dd60808783a7"
   },
   "outputs": [
    {
     "data": {
      "image/png": "[encoded data removed]",
      "text/plain": [
       "<Figure size 1000x600 with 1 Axes>"
      ]
     },
     "metadata": {},
     "output_type": "display_data"
    }
   ],
   "source": [
    "import seaborn as sns\n",
    "\n",
    "# Distribution of Ratings\n",
    "plt.figure(figsize=(10, 6))\n",
    "sns.countplot(data=filtered_ratings, x='Book-Rating', palette='viridis')\n",
    "plt.title('Distribution of Ratings', fontsize=16)\n",
    "plt.xlabel('Rating', fontsize=12)\n",
    "plt.ylabel('Count', fontsize=12)\n",
    "plt.show()"
   ]
  },
  {
   "cell_type": "code",
   "execution_count": 28,
   "metadata": {
    "colab": {
     "base_uri": "https://localhost:8080/",
     "height": 363
    },
    "id": "R0il5AxTWt9-",
    "outputId": "7682a680-7f52-4162-8f3b-a7a0d36204cf"
   },
   "outputs": [
    {
     "data": {
      "text/html": [
       "<div>\n",
       "<style scoped>\n",
       "    .dataframe tbody tr th:only-of-type {\n",
       "        vertical-align: middle;\n",
       "    }\n",
       "\n",
       "    .dataframe tbody tr th {\n",
       "        vertical-align: top;\n",
       "    }\n",
       "\n",
       "    .dataframe thead th {\n",
       "        text-align: right;\n",
       "    }\n",
       "</style>\n",
       "<table border=\"1\" class=\"dataframe\">\n",
       "  <thead>\n",
       "    <tr style=\"text-align: right;\">\n",
       "      <th></th>\n",
       "      <th>Book-Title</th>\n",
       "      <th>Book-Author</th>\n",
       "    </tr>\n",
       "  </thead>\n",
       "  <tbody>\n",
       "    <tr>\n",
       "      <th>12</th>\n",
       "      <td>Wild Animus</td>\n",
       "      <td>Rich Shapero</td>\n",
       "    </tr>\n",
       "    <tr>\n",
       "      <th>16</th>\n",
       "      <td>The Lovely Bones: A Novel</td>\n",
       "      <td>Alice Sebold</td>\n",
       "    </tr>\n",
       "    <tr>\n",
       "      <th>45</th>\n",
       "      <td>The Red Tent (Bestselling Backlist)</td>\n",
       "      <td>Anita Diamant</td>\n",
       "    </tr>\n",
       "    <tr>\n",
       "      <th>70</th>\n",
       "      <td>The Secret Life of Bees</td>\n",
       "      <td>Sue Monk Kidd</td>\n",
       "    </tr>\n",
       "    <tr>\n",
       "      <th>106</th>\n",
       "      <td>The Da Vinci Code</td>\n",
       "      <td>Dan Brown</td>\n",
       "    </tr>\n",
       "    <tr>\n",
       "      <th>283</th>\n",
       "      <td>A Time to Kill</td>\n",
       "      <td>JOHN GRISHAM</td>\n",
       "    </tr>\n",
       "    <tr>\n",
       "      <th>286</th>\n",
       "      <td>The Pelican Brief</td>\n",
       "      <td>John Grisham</td>\n",
       "    </tr>\n",
       "    <tr>\n",
       "      <th>416</th>\n",
       "      <td>Divine Secrets of the Ya-Ya Sisterhood: A Novel</td>\n",
       "      <td>Rebecca Wells</td>\n",
       "    </tr>\n",
       "    <tr>\n",
       "      <th>629</th>\n",
       "      <td>The Firm</td>\n",
       "      <td>John Grisham</td>\n",
       "    </tr>\n",
       "    <tr>\n",
       "      <th>994</th>\n",
       "      <td>Snow Falling on Cedars</td>\n",
       "      <td>David Guterson</td>\n",
       "    </tr>\n",
       "  </tbody>\n",
       "</table>\n",
       "</div>"
      ],
      "text/plain": [
       "                                          Book-Title     Book-Author\n",
       "12                                       Wild Animus    Rich Shapero\n",
       "16                         The Lovely Bones: A Novel    Alice Sebold\n",
       "45               The Red Tent (Bestselling Backlist)   Anita Diamant\n",
       "70                           The Secret Life of Bees   Sue Monk Kidd\n",
       "106                                The Da Vinci Code       Dan Brown\n",
       "283                                   A Time to Kill    JOHN GRISHAM\n",
       "286                                The Pelican Brief    John Grisham\n",
       "416  Divine Secrets of the Ya-Ya Sisterhood: A Novel   Rebecca Wells\n",
       "629                                         The Firm    John Grisham\n",
       "994                           Snow Falling on Cedars  David Guterson"
      ]
     },
     "execution_count": 28,
     "metadata": {},
     "output_type": "execute_result"
    }
   ],
   "source": [
    "# Top 10 Most Rated Books\n",
    "top_books = filtered_ratings['ISBN'].value_counts().head(10).index\n",
    "top_books_df = merged_df[merged_df['ISBN'].isin(top_books)][['Book-Title', 'Book-Author']].drop_duplicates()\n",
    "top_books_df"
   ]
  },
  {
   "cell_type": "code",
   "execution_count": 29,
   "metadata": {
    "colab": {
     "base_uri": "https://localhost:8080/",
     "height": 795
    },
    "id": "ukbkP96jW5p-",
    "outputId": "39a1b7b2-27b6-4c8e-e5fd-96c2207a0a89"
   },
   "outputs": [
    {
     "data": {
      "image/png": "[encoded data removed]",
      "text/plain": [
       "<Figure size 1000x600 with 1 Axes>"
      ]
     },
     "metadata": {},
     "output_type": "display_data"
    }
   ],
   "source": [
    "plt.figure(figsize=(10, 6))\n",
    "sns.barplot(data=merged_df[merged_df['ISBN'].isin(top_books)], x='Book-Title', y='Book-Rating', estimator=len, ci=None, palette='muted')\n",
    "plt.title('Top 10 Most Rated Books', fontsize=16)\n",
    "plt.xlabel('Book Title', fontsize=12)\n",
    "plt.ylabel('Number of Ratings', fontsize=12)\n",
    "plt.xticks(rotation=45)\n",
    "plt.show()\n"
   ]
  },
  {
   "cell_type": "code",
   "execution_count": 30,
   "metadata": {
    "colab": {
     "base_uri": "https://localhost:8080/",
     "height": 429
    },
    "id": "ZrzYsQihXAvI",
    "outputId": "8ee418a6-25f6-49c4-ed7b-9a129e38e3e5"
   },
   "outputs": [
    {
     "data": {
      "text/plain": [
       "User-ID\n",
       "11676     1583\n",
       "35859      746\n",
       "76352      680\n",
       "16795      608\n",
       "153662     562\n",
       "102967     528\n",
       "55492      513\n",
       "78783      491\n",
       "232131     487\n",
       "198711     474\n",
       "Name: count, dtype: int64"
      ]
     },
     "execution_count": 30,
     "metadata": {},
     "output_type": "execute_result"
    }
   ],
   "source": [
    "# Most Active Users\n",
    "active_users = filtered_ratings['User-ID'].value_counts().head(10)\n",
    "active_users"
   ]
  },
  {
   "cell_type": "code",
   "execution_count": 31,
   "metadata": {
    "colab": {
     "base_uri": "https://localhost:8080/",
     "height": 604
    },
    "id": "jsb1yLKqXJZW",
    "outputId": "989c4dba-a55c-44da-a544-14412d98a53a"
   },
   "outputs": [
    {
     "data": {
      "image/png": "[encoded data removed]",
      "text/plain": [
       "<Figure size 1000x600 with 1 Axes>"
      ]
     },
     "metadata": {},
     "output_type": "display_data"
    }
   ],
   "source": [
    "plt.figure(figsize=(10, 6))\n",
    "sns.barplot(x=active_users.index, y=active_users.values, palette='coolwarm')\n",
    "plt.title('Top 10 Most Active Users', fontsize=16)\n",
    "plt.xlabel('User-ID', fontsize=12)\n",
    "plt.ylabel('Number of Ratings', fontsize=12)\n",
    "plt.xticks(rotation=45)\n",
    "plt.show()"
   ]
  },
  {
   "cell_type": "code",
   "execution_count": 32,
   "metadata": {
    "colab": {
     "base_uri": "https://localhost:8080/",
     "height": 570
    },
    "id": "bOW_jlWlXLb_",
    "outputId": "e95a3fcd-9e1f-4147-faac-3a722914ec68"
   },
   "outputs": [
    {
     "data": {
      "image/png": "[encoded data removed]",
      "text/plain": [
       "<Figure size 1000x600 with 1 Axes>"
      ]
     },
     "metadata": {},
     "output_type": "display_data"
    }
   ],
   "source": [
    "# User Age Distribution\n",
    "plt.figure(figsize=(10, 6))\n",
    "sns.histplot(users['Age'], bins=20, kde=True, color='teal')\n",
    "plt.title('User Age Distribution', fontsize=16)\n",
    "plt.xlabel('Age', fontsize=12)\n",
    "plt.ylabel('Count', fontsize=12)\n",
    "plt.show()"
   ]
  },
  {
   "cell_type": "markdown",
   "metadata": {
    "id": "O9NVGZvOXg74"
   },
   "source": [
    "## **Popularity-Based Recommender System**"
   ]
  },
  {
   "cell_type": "code",
   "execution_count": 33,
   "metadata": {
    "id": "XwACAT1tXkn9"
   },
   "outputs": [],
   "source": [
    "# Calculate number of ratings and average rating for each book\n",
    "popular_books = merged_df.groupby('Book-Title').agg({'Book-Rating': ['count', 'mean']}).reset_index()\n"
   ]
  },
  {
   "cell_type": "code",
   "execution_count": 34,
   "metadata": {
    "id": "AIEH2BehXpQk"
   },
   "outputs": [],
   "source": [
    "# Rename columns for easier reference\n",
    "popular_books.columns = ['Book-Title', 'num_ratings', 'avg_rating']"
   ]
  },
  {
   "cell_type": "code",
   "execution_count": 35,
   "metadata": {
    "colab": {
     "base_uri": "https://localhost:8080/",
     "height": 363
    },
    "id": "TJ5UlolhXzpa",
    "outputId": "6ac711f1-5e3e-4509-8bce-4607b6d032fe"
   },
   "outputs": [
    {
     "data": {
      "text/html": [
       "<div>\n",
       "<style scoped>\n",
       "    .dataframe tbody tr th:only-of-type {\n",
       "        vertical-align: middle;\n",
       "    }\n",
       "\n",
       "    .dataframe tbody tr th {\n",
       "        vertical-align: top;\n",
       "    }\n",
       "\n",
       "    .dataframe thead th {\n",
       "        text-align: right;\n",
       "    }\n",
       "</style>\n",
       "<table border=\"1\" class=\"dataframe\">\n",
       "  <thead>\n",
       "    <tr style=\"text-align: right;\">\n",
       "      <th></th>\n",
       "      <th>Book-Title</th>\n",
       "      <th>num_ratings</th>\n",
       "      <th>avg_rating</th>\n",
       "    </tr>\n",
       "  </thead>\n",
       "  <tbody>\n",
       "    <tr>\n",
       "      <th>624</th>\n",
       "      <td>Harry Potter and the Goblet of Fire (Book 4)</td>\n",
       "      <td>252</td>\n",
       "      <td>5.678571</td>\n",
       "    </tr>\n",
       "    <tr>\n",
       "      <th>627</th>\n",
       "      <td>Harry Potter and the Sorcerer's Stone (Book 1)</td>\n",
       "      <td>170</td>\n",
       "      <td>5.594118</td>\n",
       "    </tr>\n",
       "    <tr>\n",
       "      <th>626</th>\n",
       "      <td>Harry Potter and the Prisoner of Azkaban (Book 3)</td>\n",
       "      <td>277</td>\n",
       "      <td>5.581227</td>\n",
       "    </tr>\n",
       "    <tr>\n",
       "      <th>625</th>\n",
       "      <td>Harry Potter and the Order of the Phoenix (Boo...</td>\n",
       "      <td>226</td>\n",
       "      <td>5.420354</td>\n",
       "    </tr>\n",
       "    <tr>\n",
       "      <th>623</th>\n",
       "      <td>Harry Potter and the Chamber of Secrets (Book 2)</td>\n",
       "      <td>335</td>\n",
       "      <td>5.089552</td>\n",
       "    </tr>\n",
       "    <tr>\n",
       "      <th>470</th>\n",
       "      <td>Ender's Game (Ender Wiggins Saga (Paperback))</td>\n",
       "      <td>106</td>\n",
       "      <td>5.056604</td>\n",
       "    </tr>\n",
       "    <tr>\n",
       "      <th>1577</th>\n",
       "      <td>The Lion, the Witch, and the Wardrobe (The Chr...</td>\n",
       "      <td>50</td>\n",
       "      <td>5.040000</td>\n",
       "    </tr>\n",
       "    <tr>\n",
       "      <th>1425</th>\n",
       "      <td>The Curious Incident of the Dog in the Night-T...</td>\n",
       "      <td>62</td>\n",
       "      <td>4.645161</td>\n",
       "    </tr>\n",
       "    <tr>\n",
       "      <th>345</th>\n",
       "      <td>Coraline</td>\n",
       "      <td>116</td>\n",
       "      <td>4.560345</td>\n",
       "    </tr>\n",
       "    <tr>\n",
       "      <th>1471</th>\n",
       "      <td>The Fellowship of the Ring (The Lord of the Ri...</td>\n",
       "      <td>186</td>\n",
       "      <td>4.521505</td>\n",
       "    </tr>\n",
       "  </tbody>\n",
       "</table>\n",
       "</div>"
      ],
      "text/plain": [
       "                                             Book-Title  num_ratings  \\\n",
       "624        Harry Potter and the Goblet of Fire (Book 4)          252   \n",
       "627      Harry Potter and the Sorcerer's Stone (Book 1)          170   \n",
       "626   Harry Potter and the Prisoner of Azkaban (Book 3)          277   \n",
       "625   Harry Potter and the Order of the Phoenix (Boo...          226   \n",
       "623    Harry Potter and the Chamber of Secrets (Book 2)          335   \n",
       "470       Ender's Game (Ender Wiggins Saga (Paperback))          106   \n",
       "1577  The Lion, the Witch, and the Wardrobe (The Chr...           50   \n",
       "1425  The Curious Incident of the Dog in the Night-T...           62   \n",
       "345                                            Coraline          116   \n",
       "1471  The Fellowship of the Ring (The Lord of the Ri...          186   \n",
       "\n",
       "      avg_rating  \n",
       "624     5.678571  \n",
       "627     5.594118  \n",
       "626     5.581227  \n",
       "625     5.420354  \n",
       "623     5.089552  \n",
       "470     5.056604  \n",
       "1577    5.040000  \n",
       "1425    4.645161  \n",
       "345     4.560345  \n",
       "1471    4.521505  "
      ]
     },
     "execution_count": 35,
     "metadata": {},
     "output_type": "execute_result"
    }
   ],
   "source": [
    "# Filter books with at least 50 ratings and sort by average rating\n",
    "popular_books = popular_books[popular_books['num_ratings'] >= 50].sort_values(\n",
    "    by=['avg_rating', 'num_ratings'], ascending=False\n",
    ").head(10)\n",
    "popular_books"
   ]
  },
  {
   "cell_type": "code",
   "execution_count": 36,
   "metadata": {
    "colab": {
     "base_uri": "https://localhost:8080/",
     "height": 1000
    },
    "id": "npoTsEC9X22Y",
    "outputId": "34097a1c-5525-4ecd-897e-35f33c62b8e2"
   },
   "outputs": [
    {
     "data": {
      "text/html": [
       "<div>\n",
       "<style scoped>\n",
       "    .dataframe tbody tr th:only-of-type {\n",
       "        vertical-align: middle;\n",
       "    }\n",
       "\n",
       "    .dataframe tbody tr th {\n",
       "        vertical-align: top;\n",
       "    }\n",
       "\n",
       "    .dataframe thead th {\n",
       "        text-align: right;\n",
       "    }\n",
       "</style>\n",
       "<table border=\"1\" class=\"dataframe\">\n",
       "  <thead>\n",
       "    <tr style=\"text-align: right;\">\n",
       "      <th></th>\n",
       "      <th>Book-Title</th>\n",
       "      <th>Book-Author</th>\n",
       "      <th>avg_rating</th>\n",
       "      <th>num_ratings</th>\n",
       "      <th>Image-URL-M</th>\n",
       "    </tr>\n",
       "  </thead>\n",
       "  <tbody>\n",
       "    <tr>\n",
       "      <th>0</th>\n",
       "      <td>Harry Potter and the Goblet of Fire (Book 4)</td>\n",
       "      <td>J. K. Rowling</td>\n",
       "      <td>5.678571</td>\n",
       "      <td>252</td>\n",
       "      <td>http://images.amazon.com/images/P/0439139597.0...</td>\n",
       "    </tr>\n",
       "    <tr>\n",
       "      <th>1</th>\n",
       "      <td>Harry Potter and the Goblet of Fire (Book 4)</td>\n",
       "      <td>J. K. Rowling</td>\n",
       "      <td>5.678571</td>\n",
       "      <td>252</td>\n",
       "      <td>http://images.amazon.com/images/P/0439139600.0...</td>\n",
       "    </tr>\n",
       "    <tr>\n",
       "      <th>2</th>\n",
       "      <td>Harry Potter and the Sorcerer's Stone (Book 1)</td>\n",
       "      <td>J. K. Rowling</td>\n",
       "      <td>5.594118</td>\n",
       "      <td>170</td>\n",
       "      <td>http://images.amazon.com/images/P/0590353403.0...</td>\n",
       "    </tr>\n",
       "    <tr>\n",
       "      <th>3</th>\n",
       "      <td>Harry Potter and the Sorcerer's Stone (Book 1)</td>\n",
       "      <td>J. K. Rowling</td>\n",
       "      <td>5.594118</td>\n",
       "      <td>170</td>\n",
       "      <td>http://images.amazon.com/images/P/043936213X.0...</td>\n",
       "    </tr>\n",
       "    <tr>\n",
       "      <th>4</th>\n",
       "      <td>Harry Potter and the Sorcerer's Stone (Book 1)</td>\n",
       "      <td>J. K. Rowling</td>\n",
       "      <td>5.594118</td>\n",
       "      <td>170</td>\n",
       "      <td>http://images.amazon.com/images/P/043920352X.0...</td>\n",
       "    </tr>\n",
       "    <tr>\n",
       "      <th>5</th>\n",
       "      <td>Harry Potter and the Sorcerer's Stone (Book 1)</td>\n",
       "      <td>J. K. Rowling</td>\n",
       "      <td>5.594118</td>\n",
       "      <td>170</td>\n",
       "      <td>http://images.amazon.com/images/P/043936213X.0...</td>\n",
       "    </tr>\n",
       "    <tr>\n",
       "      <th>6</th>\n",
       "      <td>Harry Potter and the Prisoner of Azkaban (Book 3)</td>\n",
       "      <td>J. K. Rowling</td>\n",
       "      <td>5.581227</td>\n",
       "      <td>277</td>\n",
       "      <td>http://images.amazon.com/images/P/0439136350.0...</td>\n",
       "    </tr>\n",
       "    <tr>\n",
       "      <th>7</th>\n",
       "      <td>Harry Potter and the Prisoner of Azkaban (Book 3)</td>\n",
       "      <td>J. K. Rowling</td>\n",
       "      <td>5.581227</td>\n",
       "      <td>277</td>\n",
       "      <td>http://images.amazon.com/images/P/0439136369.0...</td>\n",
       "    </tr>\n",
       "    <tr>\n",
       "      <th>8</th>\n",
       "      <td>Harry Potter and the Prisoner of Azkaban (Book 3)</td>\n",
       "      <td>J. K. Rowling</td>\n",
       "      <td>5.581227</td>\n",
       "      <td>277</td>\n",
       "      <td>http://images.amazon.com/images/P/0786222743.0...</td>\n",
       "    </tr>\n",
       "    <tr>\n",
       "      <th>9</th>\n",
       "      <td>Harry Potter and the Order of the Phoenix (Boo...</td>\n",
       "      <td>J. K. Rowling</td>\n",
       "      <td>5.420354</td>\n",
       "      <td>226</td>\n",
       "      <td>http://images.amazon.com/images/P/043935806X.0...</td>\n",
       "    </tr>\n",
       "    <tr>\n",
       "      <th>10</th>\n",
       "      <td>Harry Potter and the Order of the Phoenix (Boo...</td>\n",
       "      <td>J. K. Rowling</td>\n",
       "      <td>5.420354</td>\n",
       "      <td>226</td>\n",
       "      <td>http://images.amazon.com/images/P/0439567610.0...</td>\n",
       "    </tr>\n",
       "    <tr>\n",
       "      <th>11</th>\n",
       "      <td>Harry Potter and the Order of the Phoenix (Boo...</td>\n",
       "      <td>J. K. Rowling</td>\n",
       "      <td>5.420354</td>\n",
       "      <td>226</td>\n",
       "      <td>http://images.amazon.com/images/P/0439358078.0...</td>\n",
       "    </tr>\n",
       "    <tr>\n",
       "      <th>12</th>\n",
       "      <td>Harry Potter and the Order of the Phoenix (Boo...</td>\n",
       "      <td>J. K. Rowling</td>\n",
       "      <td>5.420354</td>\n",
       "      <td>226</td>\n",
       "      <td>http://images.amazon.com/images/P/043935806X.0...</td>\n",
       "    </tr>\n",
       "    <tr>\n",
       "      <th>13</th>\n",
       "      <td>Harry Potter and the Chamber of Secrets (Book 2)</td>\n",
       "      <td>J. K. Rowling</td>\n",
       "      <td>5.089552</td>\n",
       "      <td>335</td>\n",
       "      <td>http://images.amazon.com/images/P/0439064872.0...</td>\n",
       "    </tr>\n",
       "    <tr>\n",
       "      <th>14</th>\n",
       "      <td>Harry Potter and the Chamber of Secrets (Book 2)</td>\n",
       "      <td>J. K. Rowling</td>\n",
       "      <td>5.089552</td>\n",
       "      <td>335</td>\n",
       "      <td>http://images.amazon.com/images/P/0439064864.0...</td>\n",
       "    </tr>\n",
       "    <tr>\n",
       "      <th>15</th>\n",
       "      <td>Harry Potter and the Chamber of Secrets (Book 2)</td>\n",
       "      <td>J. K. Rowling</td>\n",
       "      <td>5.089552</td>\n",
       "      <td>335</td>\n",
       "      <td>http://images.amazon.com/images/P/0439420105.0...</td>\n",
       "    </tr>\n",
       "    <tr>\n",
       "      <th>16</th>\n",
       "      <td>Ender's Game (Ender Wiggins Saga (Paperback))</td>\n",
       "      <td>Orson Scott Card</td>\n",
       "      <td>5.056604</td>\n",
       "      <td>106</td>\n",
       "      <td>http://images.amazon.com/images/P/0312853238.0...</td>\n",
       "    </tr>\n",
       "    <tr>\n",
       "      <th>17</th>\n",
       "      <td>Ender's Game (Ender Wiggins Saga (Paperback))</td>\n",
       "      <td>Orson Scott Card</td>\n",
       "      <td>5.056604</td>\n",
       "      <td>106</td>\n",
       "      <td>http://images.amazon.com/images/P/0765342294.0...</td>\n",
       "    </tr>\n",
       "    <tr>\n",
       "      <th>18</th>\n",
       "      <td>Ender's Game (Ender Wiggins Saga (Paperback))</td>\n",
       "      <td>Orson Scott Card</td>\n",
       "      <td>5.056604</td>\n",
       "      <td>106</td>\n",
       "      <td>http://images.amazon.com/images/P/0812550706.0...</td>\n",
       "    </tr>\n",
       "    <tr>\n",
       "      <th>19</th>\n",
       "      <td>Ender's Game (Ender Wiggins Saga (Paperback))</td>\n",
       "      <td>Orson Scott Card</td>\n",
       "      <td>5.056604</td>\n",
       "      <td>106</td>\n",
       "      <td>http://images.amazon.com/images/P/0812533550.0...</td>\n",
       "    </tr>\n",
       "    <tr>\n",
       "      <th>20</th>\n",
       "      <td>The Lion, the Witch, and the Wardrobe (The Chr...</td>\n",
       "      <td>C. S. Lewis</td>\n",
       "      <td>5.040000</td>\n",
       "      <td>50</td>\n",
       "      <td>http://images.amazon.com/images/P/0064471047.0...</td>\n",
       "    </tr>\n",
       "    <tr>\n",
       "      <th>21</th>\n",
       "      <td>The Curious Incident of the Dog in the Night-T...</td>\n",
       "      <td>Mark Haddon</td>\n",
       "      <td>4.645161</td>\n",
       "      <td>62</td>\n",
       "      <td>http://images.amazon.com/images/P/1400032717.0...</td>\n",
       "    </tr>\n",
       "    <tr>\n",
       "      <th>22</th>\n",
       "      <td>Coraline</td>\n",
       "      <td>Neil Gaiman</td>\n",
       "      <td>4.560345</td>\n",
       "      <td>116</td>\n",
       "      <td>http://images.amazon.com/images/P/0380977788.0...</td>\n",
       "    </tr>\n",
       "    <tr>\n",
       "      <th>23</th>\n",
       "      <td>Coraline</td>\n",
       "      <td>Neil Gaiman</td>\n",
       "      <td>4.560345</td>\n",
       "      <td>116</td>\n",
       "      <td>http://images.amazon.com/images/P/0380807343.0...</td>\n",
       "    </tr>\n",
       "    <tr>\n",
       "      <th>24</th>\n",
       "      <td>Coraline</td>\n",
       "      <td>Neil Gaiman</td>\n",
       "      <td>4.560345</td>\n",
       "      <td>116</td>\n",
       "      <td>http://images.amazon.com/images/P/847888579X.0...</td>\n",
       "    </tr>\n",
       "    <tr>\n",
       "      <th>25</th>\n",
       "      <td>Coraline</td>\n",
       "      <td>Neil Gaiman</td>\n",
       "      <td>4.560345</td>\n",
       "      <td>116</td>\n",
       "      <td>http://images.amazon.com/images/P/0060504544.0...</td>\n",
       "    </tr>\n",
       "    <tr>\n",
       "      <th>26</th>\n",
       "      <td>Coraline</td>\n",
       "      <td>Neil Gaiman</td>\n",
       "      <td>4.560345</td>\n",
       "      <td>116</td>\n",
       "      <td>http://images.amazon.com/images/P/2226140190.0...</td>\n",
       "    </tr>\n",
       "    <tr>\n",
       "      <th>27</th>\n",
       "      <td>Coraline</td>\n",
       "      <td>Neil Gaiman</td>\n",
       "      <td>4.560345</td>\n",
       "      <td>116</td>\n",
       "      <td>http://images.amazon.com/images/P/0060575913.0...</td>\n",
       "    </tr>\n",
       "    <tr>\n",
       "      <th>28</th>\n",
       "      <td>Coraline</td>\n",
       "      <td>Neil Gaiman</td>\n",
       "      <td>4.560345</td>\n",
       "      <td>116</td>\n",
       "      <td>http://images.amazon.com/images/P/0066237440.0...</td>\n",
       "    </tr>\n",
       "    <tr>\n",
       "      <th>29</th>\n",
       "      <td>The Fellowship of the Ring (The Lord of the Ri...</td>\n",
       "      <td>J.R.R. TOLKIEN</td>\n",
       "      <td>4.521505</td>\n",
       "      <td>186</td>\n",
       "      <td>http://images.amazon.com/images/P/0345339703.0...</td>\n",
       "    </tr>\n",
       "    <tr>\n",
       "      <th>30</th>\n",
       "      <td>The Fellowship of the Ring (The Lord of the Ri...</td>\n",
       "      <td>J. R. R. Tolkien</td>\n",
       "      <td>4.521505</td>\n",
       "      <td>186</td>\n",
       "      <td>http://images.amazon.com/images/P/0618002227.0...</td>\n",
       "    </tr>\n",
       "    <tr>\n",
       "      <th>31</th>\n",
       "      <td>The Fellowship of the Ring (The Lord of the Ri...</td>\n",
       "      <td>J. R. R. Tolkien</td>\n",
       "      <td>4.521505</td>\n",
       "      <td>186</td>\n",
       "      <td>http://images.amazon.com/images/P/0618129030.0...</td>\n",
       "    </tr>\n",
       "    <tr>\n",
       "      <th>32</th>\n",
       "      <td>The Fellowship of the Ring (The Lord of the Ri...</td>\n",
       "      <td>J. R. R. Tolkien</td>\n",
       "      <td>4.521505</td>\n",
       "      <td>186</td>\n",
       "      <td>http://images.amazon.com/images/P/061826051X.0...</td>\n",
       "    </tr>\n",
       "    <tr>\n",
       "      <th>33</th>\n",
       "      <td>The Fellowship of the Ring (The Lord of the Ri...</td>\n",
       "      <td>J. R. R. Tolkien</td>\n",
       "      <td>4.521505</td>\n",
       "      <td>186</td>\n",
       "      <td>http://images.amazon.com/images/P/0395489318.0...</td>\n",
       "    </tr>\n",
       "    <tr>\n",
       "      <th>34</th>\n",
       "      <td>The Fellowship of the Ring (The Lord of the Ri...</td>\n",
       "      <td>J. R. R. Tolkien</td>\n",
       "      <td>4.521505</td>\n",
       "      <td>186</td>\n",
       "      <td>http://images.amazon.com/images/P/0618260269.0...</td>\n",
       "    </tr>\n",
       "    <tr>\n",
       "      <th>35</th>\n",
       "      <td>The Fellowship of the Ring (The Lord of the Ri...</td>\n",
       "      <td>J. R. R. Tolkien</td>\n",
       "      <td>4.521505</td>\n",
       "      <td>186</td>\n",
       "      <td>http://images.amazon.com/images/P/0618346252.0...</td>\n",
       "    </tr>\n",
       "    <tr>\n",
       "      <th>36</th>\n",
       "      <td>The Fellowship of the Ring (The Lord of the Ri...</td>\n",
       "      <td>J. R. R. Tolkien</td>\n",
       "      <td>4.521505</td>\n",
       "      <td>186</td>\n",
       "      <td>http://images.amazon.com/images/P/1565116674.0...</td>\n",
       "    </tr>\n",
       "    <tr>\n",
       "      <th>37</th>\n",
       "      <td>The Fellowship of the Ring (The Lord of the Ri...</td>\n",
       "      <td>J.R.R. Tolkien</td>\n",
       "      <td>4.521505</td>\n",
       "      <td>186</td>\n",
       "      <td>http://images.amazon.com/images/P/0618153985.0...</td>\n",
       "    </tr>\n",
       "  </tbody>\n",
       "</table>\n",
       "</div>"
      ],
      "text/plain": [
       "                                           Book-Title       Book-Author  \\\n",
       "0        Harry Potter and the Goblet of Fire (Book 4)     J. K. Rowling   \n",
       "1        Harry Potter and the Goblet of Fire (Book 4)     J. K. Rowling   \n",
       "2      Harry Potter and the Sorcerer's Stone (Book 1)     J. K. Rowling   \n",
       "3      Harry Potter and the Sorcerer's Stone (Book 1)     J. K. Rowling   \n",
       "4      Harry Potter and the Sorcerer's Stone (Book 1)     J. K. Rowling   \n",
       "5      Harry Potter and the Sorcerer's Stone (Book 1)     J. K. Rowling   \n",
       "6   Harry Potter and the Prisoner of Azkaban (Book 3)     J. K. Rowling   \n",
       "7   Harry Potter and the Prisoner of Azkaban (Book 3)     J. K. Rowling   \n",
       "8   Harry Potter and the Prisoner of Azkaban (Book 3)     J. K. Rowling   \n",
       "9   Harry Potter and the Order of the Phoenix (Boo...     J. K. Rowling   \n",
       "10  Harry Potter and the Order of the Phoenix (Boo...     J. K. Rowling   \n",
       "11  Harry Potter and the Order of the Phoenix (Boo...     J. K. Rowling   \n",
       "12  Harry Potter and the Order of the Phoenix (Boo...     J. K. Rowling   \n",
       "13   Harry Potter and the Chamber of Secrets (Book 2)     J. K. Rowling   \n",
       "14   Harry Potter and the Chamber of Secrets (Book 2)     J. K. Rowling   \n",
       "15   Harry Potter and the Chamber of Secrets (Book 2)     J. K. Rowling   \n",
       "16      Ender's Game (Ender Wiggins Saga (Paperback))  Orson Scott Card   \n",
       "17      Ender's Game (Ender Wiggins Saga (Paperback))  Orson Scott Card   \n",
       "18      Ender's Game (Ender Wiggins Saga (Paperback))  Orson Scott Card   \n",
       "19      Ender's Game (Ender Wiggins Saga (Paperback))  Orson Scott Card   \n",
       "20  The Lion, the Witch, and the Wardrobe (The Chr...       C. S. Lewis   \n",
       "21  The Curious Incident of the Dog in the Night-T...       Mark Haddon   \n",
       "22                                           Coraline       Neil Gaiman   \n",
       "23                                           Coraline       Neil Gaiman   \n",
       "24                                           Coraline       Neil Gaiman   \n",
       "25                                           Coraline       Neil Gaiman   \n",
       "26                                           Coraline       Neil Gaiman   \n",
       "27                                           Coraline       Neil Gaiman   \n",
       "28                                           Coraline       Neil Gaiman   \n",
       "29  The Fellowship of the Ring (The Lord of the Ri...    J.R.R. TOLKIEN   \n",
       "30  The Fellowship of the Ring (The Lord of the Ri...  J. R. R. Tolkien   \n",
       "31  The Fellowship of the Ring (The Lord of the Ri...  J. R. R. Tolkien   \n",
       "32  The Fellowship of the Ring (The Lord of the Ri...  J. R. R. Tolkien   \n",
       "33  The Fellowship of the Ring (The Lord of the Ri...  J. R. R. Tolkien   \n",
       "34  The Fellowship of the Ring (The Lord of the Ri...  J. R. R. Tolkien   \n",
       "35  The Fellowship of the Ring (The Lord of the Ri...  J. R. R. Tolkien   \n",
       "36  The Fellowship of the Ring (The Lord of the Ri...  J. R. R. Tolkien   \n",
       "37  The Fellowship of the Ring (The Lord of the Ri...    J.R.R. Tolkien   \n",
       "\n",
       "    avg_rating  num_ratings                                        Image-URL-M  \n",
       "0     5.678571          252  http://images.amazon.com/images/P/0439139597.0...  \n",
       "1     5.678571          252  http://images.amazon.com/images/P/0439139600.0...  \n",
       "2     5.594118          170  http://images.amazon.com/images/P/0590353403.0...  \n",
       "3     5.594118          170  http://images.amazon.com/images/P/043936213X.0...  \n",
       "4     5.594118          170  http://images.amazon.com/images/P/043920352X.0...  \n",
       "5     5.594118          170  http://images.amazon.com/images/P/043936213X.0...  \n",
       "6     5.581227          277  http://images.amazon.com/images/P/0439136350.0...  \n",
       "7     5.581227          277  http://images.amazon.com/images/P/0439136369.0...  \n",
       "8     5.581227          277  http://images.amazon.com/images/P/0786222743.0...  \n",
       "9     5.420354          226  http://images.amazon.com/images/P/043935806X.0...  \n",
       "10    5.420354          226  http://images.amazon.com/images/P/0439567610.0...  \n",
       "11    5.420354          226  http://images.amazon.com/images/P/0439358078.0...  \n",
       "12    5.420354          226  http://images.amazon.com/images/P/043935806X.0...  \n",
       "13    5.089552          335  http://images.amazon.com/images/P/0439064872.0...  \n",
       "14    5.089552          335  http://images.amazon.com/images/P/0439064864.0...  \n",
       "15    5.089552          335  http://images.amazon.com/images/P/0439420105.0...  \n",
       "16    5.056604          106  http://images.amazon.com/images/P/0312853238.0...  \n",
       "17    5.056604          106  http://images.amazon.com/images/P/0765342294.0...  \n",
       "18    5.056604          106  http://images.amazon.com/images/P/0812550706.0...  \n",
       "19    5.056604          106  http://images.amazon.com/images/P/0812533550.0...  \n",
       "20    5.040000           50  http://images.amazon.com/images/P/0064471047.0...  \n",
       "21    4.645161           62  http://images.amazon.com/images/P/1400032717.0...  \n",
       "22    4.560345          116  http://images.amazon.com/images/P/0380977788.0...  \n",
       "23    4.560345          116  http://images.amazon.com/images/P/0380807343.0...  \n",
       "24    4.560345          116  http://images.amazon.com/images/P/847888579X.0...  \n",
       "25    4.560345          116  http://images.amazon.com/images/P/0060504544.0...  \n",
       "26    4.560345          116  http://images.amazon.com/images/P/2226140190.0...  \n",
       "27    4.560345          116  http://images.amazon.com/images/P/0060575913.0...  \n",
       "28    4.560345          116  http://images.amazon.com/images/P/0066237440.0...  \n",
       "29    4.521505          186  http://images.amazon.com/images/P/0345339703.0...  \n",
       "30    4.521505          186  http://images.amazon.com/images/P/0618002227.0...  \n",
       "31    4.521505          186  http://images.amazon.com/images/P/0618129030.0...  \n",
       "32    4.521505          186  http://images.amazon.com/images/P/061826051X.0...  \n",
       "33    4.521505          186  http://images.amazon.com/images/P/0395489318.0...  \n",
       "34    4.521505          186  http://images.amazon.com/images/P/0618260269.0...  \n",
       "35    4.521505          186  http://images.amazon.com/images/P/0618346252.0...  \n",
       "36    4.521505          186  http://images.amazon.com/images/P/1565116674.0...  \n",
       "37    4.521505          186  http://images.amazon.com/images/P/0618153985.0...  "
      ]
     },
     "execution_count": 36,
     "metadata": {},
     "output_type": "execute_result"
    }
   ],
   "source": [
    "# Merge to get additional details like author and cover image\n",
    "popular_books_details = popular_books.merge(books, on='Book-Title')[['Book-Title', 'Book-Author', 'avg_rating', 'num_ratings', 'Image-URL-M']]\n",
    "popular_books_details"
   ]
  },
  {
   "cell_type": "code",
   "execution_count": 37,
   "metadata": {
    "colab": {
     "base_uri": "https://localhost:8080/",
     "height": 538
    },
    "id": "k89nN8jXYER4",
    "outputId": "c0b72af7-a24f-4dc8-f882-b1fbaf479bca"
   },
   "outputs": [
    {
     "data": {
      "image/png": "[encoded data removed]",
      "text/plain": [
       "<Figure size 1200x800 with 1 Axes>"
      ]
     },
     "metadata": {},
     "output_type": "display_data"
    }
   ],
   "source": [
    "# Visualize the top 10 popular books\n",
    "plt.figure(figsize=(12, 8))\n",
    "sns.barplot(data=popular_books, x='avg_rating', y='Book-Title', palette='Blues_r')\n",
    "plt.title('Top 10 Popular Books by Average Rating', fontsize=16)\n",
    "plt.xlabel('Average Rating', fontsize=12)\n",
    "plt.ylabel('Book Title', fontsize=12)\n",
    "plt.show()"
   ]
  },
  {
   "cell_type": "markdown",
   "metadata": {
    "id": "puoI2GKxYatB"
   },
   "source": [
    "## **Collaborative Filtering Recommender System**"
   ]
  },
  {
   "cell_type": "code",
   "execution_count": 38,
   "metadata": {
    "id": "L8RiQ5iEYd5z"
   },
   "outputs": [],
   "source": [
    "# Create a pivot table with users as columns and books as rows\n",
    "user_item_matrix = merged_df.pivot_table(index='Book-Title', columns='User-ID', values='Book-Rating')"
   ]
  },
  {
   "cell_type": "code",
   "execution_count": 39,
   "metadata": {
    "colab": {
     "base_uri": "https://localhost:8080/",
     "height": 700
    },
    "id": "xLcnsZVkYhpx",
    "outputId": "6cc4822a-82d8-4d6a-be80-a0f2c42053f0"
   },
   "outputs": [
    {
     "data": {
      "text/html": [
       "<div>\n",
       "<style scoped>\n",
       "    .dataframe tbody tr th:only-of-type {\n",
       "        vertical-align: middle;\n",
       "    }\n",
       "\n",
       "    .dataframe tbody tr th {\n",
       "        vertical-align: top;\n",
       "    }\n",
       "\n",
       "    .dataframe thead th {\n",
       "        text-align: right;\n",
       "    }\n",
       "</style>\n",
       "<table border=\"1\" class=\"dataframe\">\n",
       "  <thead>\n",
       "    <tr style=\"text-align: right;\">\n",
       "      <th>User-ID</th>\n",
       "      <th>243</th>\n",
       "      <th>254</th>\n",
       "      <th>487</th>\n",
       "      <th>507</th>\n",
       "      <th>638</th>\n",
       "      <th>741</th>\n",
       "      <th>805</th>\n",
       "      <th>882</th>\n",
       "      <th>929</th>\n",
       "      <th>1025</th>\n",
       "      <th>...</th>\n",
       "      <th>278188</th>\n",
       "      <th>278194</th>\n",
       "      <th>278202</th>\n",
       "      <th>278221</th>\n",
       "      <th>278390</th>\n",
       "      <th>278418</th>\n",
       "      <th>278535</th>\n",
       "      <th>278582</th>\n",
       "      <th>278633</th>\n",
       "      <th>278843</th>\n",
       "    </tr>\n",
       "    <tr>\n",
       "      <th>Book-Title</th>\n",
       "      <th></th>\n",
       "      <th></th>\n",
       "      <th></th>\n",
       "      <th></th>\n",
       "      <th></th>\n",
       "      <th></th>\n",
       "      <th></th>\n",
       "      <th></th>\n",
       "      <th></th>\n",
       "      <th></th>\n",
       "      <th></th>\n",
       "      <th></th>\n",
       "      <th></th>\n",
       "      <th></th>\n",
       "      <th></th>\n",
       "      <th></th>\n",
       "      <th></th>\n",
       "      <th></th>\n",
       "      <th></th>\n",
       "      <th></th>\n",
       "      <th></th>\n",
       "    </tr>\n",
       "  </thead>\n",
       "  <tbody>\n",
       "    <tr>\n",
       "      <th>16 Lighthouse Road</th>\n",
       "      <td>0.0</td>\n",
       "      <td>0.0</td>\n",
       "      <td>0.0</td>\n",
       "      <td>0.0</td>\n",
       "      <td>0.0</td>\n",
       "      <td>0.0</td>\n",
       "      <td>0.0</td>\n",
       "      <td>0.0</td>\n",
       "      <td>0.0</td>\n",
       "      <td>0.0</td>\n",
       "      <td>...</td>\n",
       "      <td>0.0</td>\n",
       "      <td>0.0</td>\n",
       "      <td>0.0</td>\n",
       "      <td>0.0</td>\n",
       "      <td>0.0</td>\n",
       "      <td>0.0</td>\n",
       "      <td>0.0</td>\n",
       "      <td>0.0</td>\n",
       "      <td>0.0</td>\n",
       "      <td>0.0</td>\n",
       "    </tr>\n",
       "    <tr>\n",
       "      <th>1984</th>\n",
       "      <td>0.0</td>\n",
       "      <td>9.0</td>\n",
       "      <td>0.0</td>\n",
       "      <td>0.0</td>\n",
       "      <td>0.0</td>\n",
       "      <td>0.0</td>\n",
       "      <td>0.0</td>\n",
       "      <td>0.0</td>\n",
       "      <td>0.0</td>\n",
       "      <td>0.0</td>\n",
       "      <td>...</td>\n",
       "      <td>0.0</td>\n",
       "      <td>0.0</td>\n",
       "      <td>0.0</td>\n",
       "      <td>0.0</td>\n",
       "      <td>0.0</td>\n",
       "      <td>0.0</td>\n",
       "      <td>0.0</td>\n",
       "      <td>0.0</td>\n",
       "      <td>0.0</td>\n",
       "      <td>0.0</td>\n",
       "    </tr>\n",
       "    <tr>\n",
       "      <th>1st to Die: A Novel</th>\n",
       "      <td>0.0</td>\n",
       "      <td>0.0</td>\n",
       "      <td>0.0</td>\n",
       "      <td>0.0</td>\n",
       "      <td>0.0</td>\n",
       "      <td>0.0</td>\n",
       "      <td>0.0</td>\n",
       "      <td>0.0</td>\n",
       "      <td>0.0</td>\n",
       "      <td>0.0</td>\n",
       "      <td>...</td>\n",
       "      <td>0.0</td>\n",
       "      <td>0.0</td>\n",
       "      <td>0.0</td>\n",
       "      <td>0.0</td>\n",
       "      <td>0.0</td>\n",
       "      <td>0.0</td>\n",
       "      <td>10.0</td>\n",
       "      <td>0.0</td>\n",
       "      <td>0.0</td>\n",
       "      <td>0.0</td>\n",
       "    </tr>\n",
       "    <tr>\n",
       "      <th>2010: Odyssey Two</th>\n",
       "      <td>0.0</td>\n",
       "      <td>0.0</td>\n",
       "      <td>0.0</td>\n",
       "      <td>0.0</td>\n",
       "      <td>0.0</td>\n",
       "      <td>0.0</td>\n",
       "      <td>0.0</td>\n",
       "      <td>0.0</td>\n",
       "      <td>0.0</td>\n",
       "      <td>0.0</td>\n",
       "      <td>...</td>\n",
       "      <td>0.0</td>\n",
       "      <td>0.0</td>\n",
       "      <td>0.0</td>\n",
       "      <td>0.0</td>\n",
       "      <td>0.0</td>\n",
       "      <td>0.0</td>\n",
       "      <td>0.0</td>\n",
       "      <td>0.0</td>\n",
       "      <td>0.0</td>\n",
       "      <td>0.0</td>\n",
       "    </tr>\n",
       "    <tr>\n",
       "      <th>204 Rosewood Lane</th>\n",
       "      <td>0.0</td>\n",
       "      <td>0.0</td>\n",
       "      <td>0.0</td>\n",
       "      <td>0.0</td>\n",
       "      <td>0.0</td>\n",
       "      <td>0.0</td>\n",
       "      <td>0.0</td>\n",
       "      <td>0.0</td>\n",
       "      <td>0.0</td>\n",
       "      <td>0.0</td>\n",
       "      <td>...</td>\n",
       "      <td>0.0</td>\n",
       "      <td>0.0</td>\n",
       "      <td>0.0</td>\n",
       "      <td>0.0</td>\n",
       "      <td>0.0</td>\n",
       "      <td>0.0</td>\n",
       "      <td>0.0</td>\n",
       "      <td>0.0</td>\n",
       "      <td>0.0</td>\n",
       "      <td>0.0</td>\n",
       "    </tr>\n",
       "    <tr>\n",
       "      <th>...</th>\n",
       "      <td>...</td>\n",
       "      <td>...</td>\n",
       "      <td>...</td>\n",
       "      <td>...</td>\n",
       "      <td>...</td>\n",
       "      <td>...</td>\n",
       "      <td>...</td>\n",
       "      <td>...</td>\n",
       "      <td>...</td>\n",
       "      <td>...</td>\n",
       "      <td>...</td>\n",
       "      <td>...</td>\n",
       "      <td>...</td>\n",
       "      <td>...</td>\n",
       "      <td>...</td>\n",
       "      <td>...</td>\n",
       "      <td>...</td>\n",
       "      <td>...</td>\n",
       "      <td>...</td>\n",
       "      <td>...</td>\n",
       "      <td>...</td>\n",
       "    </tr>\n",
       "    <tr>\n",
       "      <th>You Belong To Me</th>\n",
       "      <td>0.0</td>\n",
       "      <td>0.0</td>\n",
       "      <td>0.0</td>\n",
       "      <td>0.0</td>\n",
       "      <td>0.0</td>\n",
       "      <td>0.0</td>\n",
       "      <td>0.0</td>\n",
       "      <td>0.0</td>\n",
       "      <td>0.0</td>\n",
       "      <td>0.0</td>\n",
       "      <td>...</td>\n",
       "      <td>0.0</td>\n",
       "      <td>0.0</td>\n",
       "      <td>0.0</td>\n",
       "      <td>0.0</td>\n",
       "      <td>0.0</td>\n",
       "      <td>0.0</td>\n",
       "      <td>0.0</td>\n",
       "      <td>0.0</td>\n",
       "      <td>0.0</td>\n",
       "      <td>0.0</td>\n",
       "    </tr>\n",
       "    <tr>\n",
       "      <th>Zen and the Art of Motorcycle Maintenance: An Inquiry into Values</th>\n",
       "      <td>0.0</td>\n",
       "      <td>0.0</td>\n",
       "      <td>0.0</td>\n",
       "      <td>0.0</td>\n",
       "      <td>0.0</td>\n",
       "      <td>0.0</td>\n",
       "      <td>0.0</td>\n",
       "      <td>0.0</td>\n",
       "      <td>0.0</td>\n",
       "      <td>0.0</td>\n",
       "      <td>...</td>\n",
       "      <td>0.0</td>\n",
       "      <td>0.0</td>\n",
       "      <td>0.0</td>\n",
       "      <td>0.0</td>\n",
       "      <td>0.0</td>\n",
       "      <td>0.0</td>\n",
       "      <td>0.0</td>\n",
       "      <td>0.0</td>\n",
       "      <td>0.0</td>\n",
       "      <td>0.0</td>\n",
       "    </tr>\n",
       "    <tr>\n",
       "      <th>Zoya</th>\n",
       "      <td>0.0</td>\n",
       "      <td>0.0</td>\n",
       "      <td>0.0</td>\n",
       "      <td>0.0</td>\n",
       "      <td>0.0</td>\n",
       "      <td>0.0</td>\n",
       "      <td>0.0</td>\n",
       "      <td>0.0</td>\n",
       "      <td>0.0</td>\n",
       "      <td>0.0</td>\n",
       "      <td>...</td>\n",
       "      <td>0.0</td>\n",
       "      <td>0.0</td>\n",
       "      <td>0.0</td>\n",
       "      <td>0.0</td>\n",
       "      <td>0.0</td>\n",
       "      <td>0.0</td>\n",
       "      <td>0.0</td>\n",
       "      <td>0.0</td>\n",
       "      <td>0.0</td>\n",
       "      <td>0.0</td>\n",
       "    </tr>\n",
       "    <tr>\n",
       "      <th>\\O\\\" Is for Outlaw\"</th>\n",
       "      <td>0.0</td>\n",
       "      <td>0.0</td>\n",
       "      <td>0.0</td>\n",
       "      <td>0.0</td>\n",
       "      <td>0.0</td>\n",
       "      <td>0.0</td>\n",
       "      <td>0.0</td>\n",
       "      <td>0.0</td>\n",
       "      <td>0.0</td>\n",
       "      <td>0.0</td>\n",
       "      <td>...</td>\n",
       "      <td>0.0</td>\n",
       "      <td>0.0</td>\n",
       "      <td>0.0</td>\n",
       "      <td>0.0</td>\n",
       "      <td>0.0</td>\n",
       "      <td>0.0</td>\n",
       "      <td>9.0</td>\n",
       "      <td>0.0</td>\n",
       "      <td>0.0</td>\n",
       "      <td>0.0</td>\n",
       "    </tr>\n",
       "    <tr>\n",
       "      <th>stardust</th>\n",
       "      <td>0.0</td>\n",
       "      <td>0.0</td>\n",
       "      <td>0.0</td>\n",
       "      <td>0.0</td>\n",
       "      <td>0.0</td>\n",
       "      <td>0.0</td>\n",
       "      <td>0.0</td>\n",
       "      <td>0.0</td>\n",
       "      <td>0.0</td>\n",
       "      <td>0.0</td>\n",
       "      <td>...</td>\n",
       "      <td>0.0</td>\n",
       "      <td>0.0</td>\n",
       "      <td>0.0</td>\n",
       "      <td>0.0</td>\n",
       "      <td>0.0</td>\n",
       "      <td>0.0</td>\n",
       "      <td>0.0</td>\n",
       "      <td>0.0</td>\n",
       "      <td>0.0</td>\n",
       "      <td>0.0</td>\n",
       "    </tr>\n",
       "  </tbody>\n",
       "</table>\n",
       "<p>1964 rows × 3935 columns</p>\n",
       "</div>"
      ],
      "text/plain": [
       "User-ID                                             243     254     487     \\\n",
       "Book-Title                                                                   \n",
       "16 Lighthouse Road                                     0.0     0.0     0.0   \n",
       "1984                                                   0.0     9.0     0.0   \n",
       "1st to Die: A Novel                                    0.0     0.0     0.0   \n",
       "2010: Odyssey Two                                      0.0     0.0     0.0   \n",
       "204 Rosewood Lane                                      0.0     0.0     0.0   \n",
       "...                                                    ...     ...     ...   \n",
       "You Belong To Me                                       0.0     0.0     0.0   \n",
       "Zen and the Art of Motorcycle Maintenance: An I...     0.0     0.0     0.0   \n",
       "Zoya                                                   0.0     0.0     0.0   \n",
       "\\O\\\" Is for Outlaw\"                                    0.0     0.0     0.0   \n",
       "stardust                                               0.0     0.0     0.0   \n",
       "\n",
       "User-ID                                             507     638     741     \\\n",
       "Book-Title                                                                   \n",
       "16 Lighthouse Road                                     0.0     0.0     0.0   \n",
       "1984                                                   0.0     0.0     0.0   \n",
       "1st to Die: A Novel                                    0.0     0.0     0.0   \n",
       "2010: Odyssey Two                                      0.0     0.0     0.0   \n",
       "204 Rosewood Lane                                      0.0     0.0     0.0   \n",
       "...                                                    ...     ...     ...   \n",
       "You Belong To Me                                       0.0     0.0     0.0   \n",
       "Zen and the Art of Motorcycle Maintenance: An I...     0.0     0.0     0.0   \n",
       "Zoya                                                   0.0     0.0     0.0   \n",
       "\\O\\\" Is for Outlaw\"                                    0.0     0.0     0.0   \n",
       "stardust                                               0.0     0.0     0.0   \n",
       "\n",
       "User-ID                                             805     882     929     \\\n",
       "Book-Title                                                                   \n",
       "16 Lighthouse Road                                     0.0     0.0     0.0   \n",
       "1984                                                   0.0     0.0     0.0   \n",
       "1st to Die: A Novel                                    0.0     0.0     0.0   \n",
       "2010: Odyssey Two                                      0.0     0.0     0.0   \n",
       "204 Rosewood Lane                                      0.0     0.0     0.0   \n",
       "...                                                    ...     ...     ...   \n",
       "You Belong To Me                                       0.0     0.0     0.0   \n",
       "Zen and the Art of Motorcycle Maintenance: An I...     0.0     0.0     0.0   \n",
       "Zoya                                                   0.0     0.0     0.0   \n",
       "\\O\\\" Is for Outlaw\"                                    0.0     0.0     0.0   \n",
       "stardust                                               0.0     0.0     0.0   \n",
       "\n",
       "User-ID                                             1025    ...  278188  \\\n",
       "Book-Title                                                  ...           \n",
       "16 Lighthouse Road                                     0.0  ...     0.0   \n",
       "1984                                                   0.0  ...     0.0   \n",
       "1st to Die: A Novel                                    0.0  ...     0.0   \n",
       "2010: Odyssey Two                                      0.0  ...     0.0   \n",
       "204 Rosewood Lane                                      0.0  ...     0.0   \n",
       "...                                                    ...  ...     ...   \n",
       "You Belong To Me                                       0.0  ...     0.0   \n",
       "Zen and the Art of Motorcycle Maintenance: An I...     0.0  ...     0.0   \n",
       "Zoya                                                   0.0  ...     0.0   \n",
       "\\O\\\" Is for Outlaw\"                                    0.0  ...     0.0   \n",
       "stardust                                               0.0  ...     0.0   \n",
       "\n",
       "User-ID                                             278194  278202  278221  \\\n",
       "Book-Title                                                                   \n",
       "16 Lighthouse Road                                     0.0     0.0     0.0   \n",
       "1984                                                   0.0     0.0     0.0   \n",
       "1st to Die: A Novel                                    0.0     0.0     0.0   \n",
       "2010: Odyssey Two                                      0.0     0.0     0.0   \n",
       "204 Rosewood Lane                                      0.0     0.0     0.0   \n",
       "...                                                    ...     ...     ...   \n",
       "You Belong To Me                                       0.0     0.0     0.0   \n",
       "Zen and the Art of Motorcycle Maintenance: An I...     0.0     0.0     0.0   \n",
       "Zoya                                                   0.0     0.0     0.0   \n",
       "\\O\\\" Is for Outlaw\"                                    0.0     0.0     0.0   \n",
       "stardust                                               0.0     0.0     0.0   \n",
       "\n",
       "User-ID                                             278390  278418  278535  \\\n",
       "Book-Title                                                                   \n",
       "16 Lighthouse Road                                     0.0     0.0     0.0   \n",
       "1984                                                   0.0     0.0     0.0   \n",
       "1st to Die: A Novel                                    0.0     0.0    10.0   \n",
       "2010: Odyssey Two                                      0.0     0.0     0.0   \n",
       "204 Rosewood Lane                                      0.0     0.0     0.0   \n",
       "...                                                    ...     ...     ...   \n",
       "You Belong To Me                                       0.0     0.0     0.0   \n",
       "Zen and the Art of Motorcycle Maintenance: An I...     0.0     0.0     0.0   \n",
       "Zoya                                                   0.0     0.0     0.0   \n",
       "\\O\\\" Is for Outlaw\"                                    0.0     0.0     9.0   \n",
       "stardust                                               0.0     0.0     0.0   \n",
       "\n",
       "User-ID                                             278582  278633  278843  \n",
       "Book-Title                                                                  \n",
       "16 Lighthouse Road                                     0.0     0.0     0.0  \n",
       "1984                                                   0.0     0.0     0.0  \n",
       "1st to Die: A Novel                                    0.0     0.0     0.0  \n",
       "2010: Odyssey Two                                      0.0     0.0     0.0  \n",
       "204 Rosewood Lane                                      0.0     0.0     0.0  \n",
       "...                                                    ...     ...     ...  \n",
       "You Belong To Me                                       0.0     0.0     0.0  \n",
       "Zen and the Art of Motorcycle Maintenance: An I...     0.0     0.0     0.0  \n",
       "Zoya                                                   0.0     0.0     0.0  \n",
       "\\O\\\" Is for Outlaw\"                                    0.0     0.0     0.0  \n",
       "stardust                                               0.0     0.0     0.0  \n",
       "\n",
       "[1964 rows x 3935 columns]"
      ]
     },
     "execution_count": 39,
     "metadata": {},
     "output_type": "execute_result"
    }
   ],
   "source": [
    "# Fill missing values with 0 (indicating no rating)\n",
    "user_item_matrix = user_item_matrix.fillna(0)\n",
    "user_item_matrix"
   ]
  },
  {
   "cell_type": "code",
   "execution_count": 40,
   "metadata": {
    "id": "j1j_utBuYkV5"
   },
   "outputs": [],
   "source": [
    "from sklearn.metrics.pairwise import cosine_similarity"
   ]
  },
  {
   "cell_type": "code",
   "execution_count": 41,
   "metadata": {
    "colab": {
     "base_uri": "https://localhost:8080/",
     "height": 547
    },
    "id": "fZKjaDr5Yu79",
    "outputId": "f95abf3d-00e4-4131-9a1d-a6902ee480af"
   },
   "outputs": [
    {
     "data": {
      "text/html": [
       "<div>\n",
       "<style scoped>\n",
       "    .dataframe tbody tr th:only-of-type {\n",
       "        vertical-align: middle;\n",
       "    }\n",
       "\n",
       "    .dataframe tbody tr th {\n",
       "        vertical-align: top;\n",
       "    }\n",
       "\n",
       "    .dataframe thead th {\n",
       "        text-align: right;\n",
       "    }\n",
       "</style>\n",
       "<table border=\"1\" class=\"dataframe\">\n",
       "  <thead>\n",
       "    <tr style=\"text-align: right;\">\n",
       "      <th>Book-Title</th>\n",
       "      <th>16 Lighthouse Road</th>\n",
       "      <th>1984</th>\n",
       "      <th>1st to Die: A Novel</th>\n",
       "      <th>2010: Odyssey Two</th>\n",
       "      <th>204 Rosewood Lane</th>\n",
       "      <th>24 Hours</th>\n",
       "      <th>2nd Chance</th>\n",
       "      <th>3rd Degree</th>\n",
       "      <th>4 Blondes</th>\n",
       "      <th>50 Simple Things You Can Do to Save the Earth</th>\n",
       "      <th>...</th>\n",
       "      <th>Wuthering Heights (Penguin Classics)</th>\n",
       "      <th>Wuthering Heights (Wordsworth Classics)</th>\n",
       "      <th>Xenocide (Ender Wiggins Saga (Paperback))</th>\n",
       "      <th>YOU BELONG TO ME</th>\n",
       "      <th>Year of Wonders</th>\n",
       "      <th>You Belong To Me</th>\n",
       "      <th>Zen and the Art of Motorcycle Maintenance: An Inquiry into Values</th>\n",
       "      <th>Zoya</th>\n",
       "      <th>\\O\\\" Is for Outlaw\"</th>\n",
       "      <th>stardust</th>\n",
       "    </tr>\n",
       "    <tr>\n",
       "      <th>Book-Title</th>\n",
       "      <th></th>\n",
       "      <th></th>\n",
       "      <th></th>\n",
       "      <th></th>\n",
       "      <th></th>\n",
       "      <th></th>\n",
       "      <th></th>\n",
       "      <th></th>\n",
       "      <th></th>\n",
       "      <th></th>\n",
       "      <th></th>\n",
       "      <th></th>\n",
       "      <th></th>\n",
       "      <th></th>\n",
       "      <th></th>\n",
       "      <th></th>\n",
       "      <th></th>\n",
       "      <th></th>\n",
       "      <th></th>\n",
       "      <th></th>\n",
       "      <th></th>\n",
       "    </tr>\n",
       "  </thead>\n",
       "  <tbody>\n",
       "    <tr>\n",
       "      <th>16 Lighthouse Road</th>\n",
       "      <td>1.000000</td>\n",
       "      <td>0.000000</td>\n",
       "      <td>0.026796</td>\n",
       "      <td>0.121632</td>\n",
       "      <td>0.252206</td>\n",
       "      <td>0.000000</td>\n",
       "      <td>0.087535</td>\n",
       "      <td>0.106958</td>\n",
       "      <td>0.0</td>\n",
       "      <td>0.083453</td>\n",
       "      <td>...</td>\n",
       "      <td>0.0</td>\n",
       "      <td>0.000000</td>\n",
       "      <td>0.000000</td>\n",
       "      <td>0.000000</td>\n",
       "      <td>0.000000</td>\n",
       "      <td>0.072075</td>\n",
       "      <td>0.086940</td>\n",
       "      <td>0.000000</td>\n",
       "      <td>0.049406</td>\n",
       "      <td>0.000000</td>\n",
       "    </tr>\n",
       "    <tr>\n",
       "      <th>1984</th>\n",
       "      <td>0.000000</td>\n",
       "      <td>1.000000</td>\n",
       "      <td>0.036275</td>\n",
       "      <td>0.068470</td>\n",
       "      <td>0.000000</td>\n",
       "      <td>0.000000</td>\n",
       "      <td>0.000000</td>\n",
       "      <td>0.000000</td>\n",
       "      <td>0.0</td>\n",
       "      <td>0.000000</td>\n",
       "      <td>...</td>\n",
       "      <td>0.0</td>\n",
       "      <td>0.053279</td>\n",
       "      <td>0.013442</td>\n",
       "      <td>0.000000</td>\n",
       "      <td>0.052760</td>\n",
       "      <td>0.000000</td>\n",
       "      <td>0.060477</td>\n",
       "      <td>0.000000</td>\n",
       "      <td>0.000000</td>\n",
       "      <td>0.049885</td>\n",
       "    </tr>\n",
       "    <tr>\n",
       "      <th>1st to Die: A Novel</th>\n",
       "      <td>0.026796</td>\n",
       "      <td>0.036275</td>\n",
       "      <td>1.000000</td>\n",
       "      <td>0.014259</td>\n",
       "      <td>0.000000</td>\n",
       "      <td>0.072196</td>\n",
       "      <td>0.199605</td>\n",
       "      <td>0.072884</td>\n",
       "      <td>0.0</td>\n",
       "      <td>0.023970</td>\n",
       "      <td>...</td>\n",
       "      <td>0.0</td>\n",
       "      <td>0.013592</td>\n",
       "      <td>0.000000</td>\n",
       "      <td>0.073191</td>\n",
       "      <td>0.029956</td>\n",
       "      <td>0.094636</td>\n",
       "      <td>0.027519</td>\n",
       "      <td>0.094882</td>\n",
       "      <td>0.096824</td>\n",
       "      <td>0.037089</td>\n",
       "    </tr>\n",
       "    <tr>\n",
       "      <th>2010: Odyssey Two</th>\n",
       "      <td>0.121632</td>\n",
       "      <td>0.068470</td>\n",
       "      <td>0.014259</td>\n",
       "      <td>1.000000</td>\n",
       "      <td>0.000000</td>\n",
       "      <td>0.000000</td>\n",
       "      <td>0.000000</td>\n",
       "      <td>0.000000</td>\n",
       "      <td>0.0</td>\n",
       "      <td>0.000000</td>\n",
       "      <td>...</td>\n",
       "      <td>0.0</td>\n",
       "      <td>0.000000</td>\n",
       "      <td>0.077193</td>\n",
       "      <td>0.000000</td>\n",
       "      <td>0.027562</td>\n",
       "      <td>0.000000</td>\n",
       "      <td>0.069396</td>\n",
       "      <td>0.000000</td>\n",
       "      <td>0.000000</td>\n",
       "      <td>0.000000</td>\n",
       "    </tr>\n",
       "    <tr>\n",
       "      <th>204 Rosewood Lane</th>\n",
       "      <td>0.252206</td>\n",
       "      <td>0.000000</td>\n",
       "      <td>0.000000</td>\n",
       "      <td>0.000000</td>\n",
       "      <td>1.000000</td>\n",
       "      <td>0.000000</td>\n",
       "      <td>0.096889</td>\n",
       "      <td>0.148458</td>\n",
       "      <td>0.0</td>\n",
       "      <td>0.000000</td>\n",
       "      <td>...</td>\n",
       "      <td>0.0</td>\n",
       "      <td>0.000000</td>\n",
       "      <td>0.000000</td>\n",
       "      <td>0.000000</td>\n",
       "      <td>0.000000</td>\n",
       "      <td>0.000000</td>\n",
       "      <td>0.000000</td>\n",
       "      <td>0.000000</td>\n",
       "      <td>0.000000</td>\n",
       "      <td>0.000000</td>\n",
       "    </tr>\n",
       "  </tbody>\n",
       "</table>\n",
       "<p>5 rows × 1964 columns</p>\n",
       "</div>"
      ],
      "text/plain": [
       "Book-Title           16 Lighthouse Road      1984  1st to Die: A Novel  \\\n",
       "Book-Title                                                               \n",
       "16 Lighthouse Road             1.000000  0.000000             0.026796   \n",
       "1984                           0.000000  1.000000             0.036275   \n",
       "1st to Die: A Novel            0.026796  0.036275             1.000000   \n",
       "2010: Odyssey Two              0.121632  0.068470             0.014259   \n",
       "204 Rosewood Lane              0.252206  0.000000             0.000000   \n",
       "\n",
       "Book-Title           2010: Odyssey Two  204 Rosewood Lane  24 Hours  \\\n",
       "Book-Title                                                            \n",
       "16 Lighthouse Road            0.121632           0.252206  0.000000   \n",
       "1984                          0.068470           0.000000  0.000000   \n",
       "1st to Die: A Novel           0.014259           0.000000  0.072196   \n",
       "2010: Odyssey Two             1.000000           0.000000  0.000000   \n",
       "204 Rosewood Lane             0.000000           1.000000  0.000000   \n",
       "\n",
       "Book-Title           2nd Chance  3rd Degree  4 Blondes  \\\n",
       "Book-Title                                               \n",
       "16 Lighthouse Road     0.087535    0.106958        0.0   \n",
       "1984                   0.000000    0.000000        0.0   \n",
       "1st to Die: A Novel    0.199605    0.072884        0.0   \n",
       "2010: Odyssey Two      0.000000    0.000000        0.0   \n",
       "204 Rosewood Lane      0.096889    0.148458        0.0   \n",
       "\n",
       "Book-Title           50 Simple Things You Can Do to Save the Earth  ...  \\\n",
       "Book-Title                                                          ...   \n",
       "16 Lighthouse Road                                        0.083453  ...   \n",
       "1984                                                      0.000000  ...   \n",
       "1st to Die: A Novel                                       0.023970  ...   \n",
       "2010: Odyssey Two                                         0.000000  ...   \n",
       "204 Rosewood Lane                                         0.000000  ...   \n",
       "\n",
       "Book-Title           Wuthering Heights (Penguin Classics)  \\\n",
       "Book-Title                                                  \n",
       "16 Lighthouse Road                                    0.0   \n",
       "1984                                                  0.0   \n",
       "1st to Die: A Novel                                   0.0   \n",
       "2010: Odyssey Two                                     0.0   \n",
       "204 Rosewood Lane                                     0.0   \n",
       "\n",
       "Book-Title           Wuthering Heights (Wordsworth Classics)  \\\n",
       "Book-Title                                                     \n",
       "16 Lighthouse Road                                  0.000000   \n",
       "1984                                                0.053279   \n",
       "1st to Die: A Novel                                 0.013592   \n",
       "2010: Odyssey Two                                   0.000000   \n",
       "204 Rosewood Lane                                   0.000000   \n",
       "\n",
       "Book-Title           Xenocide (Ender Wiggins Saga (Paperback))  \\\n",
       "Book-Title                                                       \n",
       "16 Lighthouse Road                                    0.000000   \n",
       "1984                                                  0.013442   \n",
       "1st to Die: A Novel                                   0.000000   \n",
       "2010: Odyssey Two                                     0.077193   \n",
       "204 Rosewood Lane                                     0.000000   \n",
       "\n",
       "Book-Title           YOU BELONG TO ME  Year of Wonders  You Belong To Me  \\\n",
       "Book-Title                                                                 \n",
       "16 Lighthouse Road           0.000000         0.000000          0.072075   \n",
       "1984                         0.000000         0.052760          0.000000   \n",
       "1st to Die: A Novel          0.073191         0.029956          0.094636   \n",
       "2010: Odyssey Two            0.000000         0.027562          0.000000   \n",
       "204 Rosewood Lane            0.000000         0.000000          0.000000   \n",
       "\n",
       "Book-Title           Zen and the Art of Motorcycle Maintenance: An Inquiry into Values  \\\n",
       "Book-Title                                                                               \n",
       "16 Lighthouse Road                                            0.086940                   \n",
       "1984                                                          0.060477                   \n",
       "1st to Die: A Novel                                           0.027519                   \n",
       "2010: Odyssey Two                                             0.069396                   \n",
       "204 Rosewood Lane                                             0.000000                   \n",
       "\n",
       "Book-Title               Zoya  \\O\\\" Is for Outlaw\"  stardust  \n",
       "Book-Title                                                    \n",
       "16 Lighthouse Road   0.000000             0.049406  0.000000  \n",
       "1984                 0.000000             0.000000  0.049885  \n",
       "1st to Die: A Novel  0.094882             0.096824  0.037089  \n",
       "2010: Odyssey Two    0.000000             0.000000  0.000000  \n",
       "204 Rosewood Lane    0.000000             0.000000  0.000000  \n",
       "\n",
       "[5 rows x 1964 columns]"
      ]
     },
     "execution_count": 41,
     "metadata": {},
     "output_type": "execute_result"
    }
   ],
   "source": [
    "# Compute similarity scores\n",
    "book_similarity = cosine_similarity(user_item_matrix)\n",
    "book_similarity_df = pd.DataFrame(book_similarity, index=user_item_matrix.index, columns=user_item_matrix.index)\n",
    "book_similarity_df.head()"
   ]
  },
  {
   "cell_type": "code",
   "execution_count": 44,
   "metadata": {
    "id": "ERD-154GY95g"
   },
   "outputs": [],
   "source": [
    "def recommend_books_cf(book_title, num_recommendations=10):\n",
    "    if book_title not in book_similarity_df.index:\n",
    "        return f\"Book '{book_title}' not found in the dataset.\"\n",
    "\n",
    "    # Get the similarity scores for the selected book\n",
    "    similar_books = book_similarity_df[book_title].sort_values(ascending=False)[1:num_recommendations + 1]\n",
    "\n",
    "    # Ensure to filter unique titles and match only top similar books\n",
    "    recommendations = books[books['Book-Title'].isin(similar_books.index)].drop_duplicates('Book-Title')\n",
    "\n",
    "    # Limit the DataFrame to match the number of recommendations\n",
    "    recommendations = recommendations[['Book-Title', 'Book-Author', 'Image-URL-M']].iloc[:num_recommendations]\n",
    "    recommendations['Similarity Score'] = similar_books.values[:len(recommendations)]\n",
    "\n",
    "    return recommendations\n"
   ]
  },
  {
   "cell_type": "code",
   "execution_count": 45,
   "metadata": {
    "colab": {
     "base_uri": "https://localhost:8080/",
     "height": 363
    },
    "id": "Q2-8VWwBY_R-",
    "outputId": "3748b4fd-308f-4a9d-bf74-b9c8d516ea51"
   },
   "outputs": [
    {
     "data": {
      "text/html": [
       "<div>\n",
       "<style scoped>\n",
       "    .dataframe tbody tr th:only-of-type {\n",
       "        vertical-align: middle;\n",
       "    }\n",
       "\n",
       "    .dataframe tbody tr th {\n",
       "        vertical-align: top;\n",
       "    }\n",
       "\n",
       "    .dataframe thead th {\n",
       "        text-align: right;\n",
       "    }\n",
       "</style>\n",
       "<table border=\"1\" class=\"dataframe\">\n",
       "  <thead>\n",
       "    <tr style=\"text-align: right;\">\n",
       "      <th></th>\n",
       "      <th>Book-Title</th>\n",
       "      <th>Book-Author</th>\n",
       "      <th>Image-URL-M</th>\n",
       "      <th>Similarity Score</th>\n",
       "    </tr>\n",
       "  </thead>\n",
       "  <tbody>\n",
       "    <tr>\n",
       "      <th>1571</th>\n",
       "      <td>The Fellowship of the Ring (The Lord of the Ri...</td>\n",
       "      <td>J.R.R. TOLKIEN</td>\n",
       "      <td>http://images.amazon.com/images/P/0345339703.0...</td>\n",
       "      <td>0.660217</td>\n",
       "    </tr>\n",
       "    <tr>\n",
       "      <th>2143</th>\n",
       "      <td>Harry Potter and the Sorcerer's Stone (Harry P...</td>\n",
       "      <td>J. K. Rowling</td>\n",
       "      <td>http://images.amazon.com/images/P/059035342X.0...</td>\n",
       "      <td>0.620662</td>\n",
       "    </tr>\n",
       "    <tr>\n",
       "      <th>2785</th>\n",
       "      <td>The Hobbit: or There and Back Again</td>\n",
       "      <td>J.R.R. Tolkien</td>\n",
       "      <td>http://images.amazon.com/images/P/0618002219.0...</td>\n",
       "      <td>0.473673</td>\n",
       "    </tr>\n",
       "    <tr>\n",
       "      <th>2809</th>\n",
       "      <td>Harry Potter and the Sorcerer's Stone (Book 1)</td>\n",
       "      <td>J. K. Rowling</td>\n",
       "      <td>http://images.amazon.com/images/P/0590353403.0...</td>\n",
       "      <td>0.463704</td>\n",
       "    </tr>\n",
       "    <tr>\n",
       "      <th>3459</th>\n",
       "      <td>Harry Potter and the Chamber of Secrets (Book 2)</td>\n",
       "      <td>J. K. Rowling</td>\n",
       "      <td>http://images.amazon.com/images/P/0439064872.0...</td>\n",
       "      <td>0.342799</td>\n",
       "    </tr>\n",
       "    <tr>\n",
       "      <th>3847</th>\n",
       "      <td>Charlotte's Web (Trophy Newbery)</td>\n",
       "      <td>E. B. White</td>\n",
       "      <td>http://images.amazon.com/images/P/0064400557.0...</td>\n",
       "      <td>0.171597</td>\n",
       "    </tr>\n",
       "    <tr>\n",
       "      <th>4665</th>\n",
       "      <td>The Reptile Room (A Series of Unfortunate Even...</td>\n",
       "      <td>Lemony Snicket</td>\n",
       "      <td>http://images.amazon.com/images/P/0064407675.0...</td>\n",
       "      <td>0.152086</td>\n",
       "    </tr>\n",
       "    <tr>\n",
       "      <th>5431</th>\n",
       "      <td>Harry Potter and the Goblet of Fire (Book 4)</td>\n",
       "      <td>J. K. Rowling</td>\n",
       "      <td>http://images.amazon.com/images/P/0439139597.0...</td>\n",
       "      <td>0.149265</td>\n",
       "    </tr>\n",
       "    <tr>\n",
       "      <th>5506</th>\n",
       "      <td>Harry Potter and the Order of the Phoenix (Boo...</td>\n",
       "      <td>J. K. Rowling</td>\n",
       "      <td>http://images.amazon.com/images/P/043935806X.0...</td>\n",
       "      <td>0.138443</td>\n",
       "    </tr>\n",
       "    <tr>\n",
       "      <th>34232</th>\n",
       "      <td>The Wide Window (A Series of Unfortunate Event...</td>\n",
       "      <td>Lemony Snicket</td>\n",
       "      <td>http://images.amazon.com/images/P/0064407683.0...</td>\n",
       "      <td>0.129846</td>\n",
       "    </tr>\n",
       "  </tbody>\n",
       "</table>\n",
       "</div>"
      ],
      "text/plain": [
       "                                              Book-Title     Book-Author  \\\n",
       "1571   The Fellowship of the Ring (The Lord of the Ri...  J.R.R. TOLKIEN   \n",
       "2143   Harry Potter and the Sorcerer's Stone (Harry P...   J. K. Rowling   \n",
       "2785                 The Hobbit: or There and Back Again  J.R.R. Tolkien   \n",
       "2809      Harry Potter and the Sorcerer's Stone (Book 1)   J. K. Rowling   \n",
       "3459    Harry Potter and the Chamber of Secrets (Book 2)   J. K. Rowling   \n",
       "3847                    Charlotte's Web (Trophy Newbery)     E. B. White   \n",
       "4665   The Reptile Room (A Series of Unfortunate Even...  Lemony Snicket   \n",
       "5431        Harry Potter and the Goblet of Fire (Book 4)   J. K. Rowling   \n",
       "5506   Harry Potter and the Order of the Phoenix (Boo...   J. K. Rowling   \n",
       "34232  The Wide Window (A Series of Unfortunate Event...  Lemony Snicket   \n",
       "\n",
       "                                             Image-URL-M  Similarity Score  \n",
       "1571   http://images.amazon.com/images/P/0345339703.0...          0.660217  \n",
       "2143   http://images.amazon.com/images/P/059035342X.0...          0.620662  \n",
       "2785   http://images.amazon.com/images/P/0618002219.0...          0.473673  \n",
       "2809   http://images.amazon.com/images/P/0590353403.0...          0.463704  \n",
       "3459   http://images.amazon.com/images/P/0439064872.0...          0.342799  \n",
       "3847   http://images.amazon.com/images/P/0064400557.0...          0.171597  \n",
       "4665   http://images.amazon.com/images/P/0064407675.0...          0.152086  \n",
       "5431   http://images.amazon.com/images/P/0439139597.0...          0.149265  \n",
       "5506   http://images.amazon.com/images/P/043935806X.0...          0.138443  \n",
       "34232  http://images.amazon.com/images/P/0064407683.0...          0.129846  "
      ]
     },
     "execution_count": 45,
     "metadata": {},
     "output_type": "execute_result"
    }
   ],
   "source": [
    "# Example: Recommend books similar to 'Harry Potter and the Prisoner of Azkaban (Book 3)'\n",
    "recommended_books = recommend_books_cf('Harry Potter and the Prisoner of Azkaban (Book 3)', 10)\n",
    "recommended_books"
   ]
  },
  {
   "cell_type": "markdown",
   "metadata": {
    "id": "CkEReqAcbGjq"
   },
   "source": [
    "## **Advanced Collaborative Filtering with Matrix Factorization**"
   ]
  },
  {
   "cell_type": "code",
   "execution_count": 46,
   "metadata": {
    "id": "4uoYquVtbszH"
   },
   "outputs": [],
   "source": [
    "import tensorflow as tf\n",
    "from tensorflow.keras.models import Model\n",
    "from tensorflow.keras.layers import Input, Embedding, Flatten, Concatenate, Dense, Dropout\n",
    "from sklearn.model_selection import train_test_split\n",
    "from sklearn.preprocessing import LabelEncoder"
   ]
  },
  {
   "cell_type": "code",
   "execution_count": 47,
   "metadata": {
    "id": "mtzLYrwIbvUm"
   },
   "outputs": [],
   "source": [
    "# Encode User and Item IDs\n",
    "user_encoder = LabelEncoder()\n",
    "item_encoder = LabelEncoder()"
   ]
  },
  {
   "cell_type": "code",
   "execution_count": 48,
   "metadata": {
    "id": "hnPbMV_Lb3UA"
   },
   "outputs": [],
   "source": [
    "ratings['User-ID'] = user_encoder.fit_transform(ratings['User-ID'])\n",
    "ratings['ISBN'] = item_encoder.fit_transform(ratings['ISBN'])"
   ]
  },
  {
   "cell_type": "code",
   "execution_count": 49,
   "metadata": {
    "id": "RI3wy9oqcBzJ"
   },
   "outputs": [],
   "source": [
    "# Prepare Data for Training\n",
    "X = ratings[['User-ID', 'ISBN']].values\n",
    "y = ratings['Book-Rating'].values"
   ]
  },
  {
   "cell_type": "code",
   "execution_count": 50,
   "metadata": {
    "id": "stMcmLeFcGfb"
   },
   "outputs": [],
   "source": [
    "# Split Data\n",
    "X_train, X_test, y_train, y_test = train_test_split(X, y, test_size=0.2, random_state=42)"
   ]
  },
  {
   "cell_type": "code",
   "execution_count": 51,
   "metadata": {
    "id": "Q4JQBbrqcLcx"
   },
   "outputs": [],
   "source": [
    "# Hyperparameters\n",
    "num_users = ratings['User-ID'].nunique()\n",
    "num_items = ratings['ISBN'].nunique()\n",
    "embedding_dim = 50"
   ]
  },
  {
   "cell_type": "code",
   "execution_count": 52,
   "metadata": {
    "id": "JF-5tZuWccax"
   },
   "outputs": [],
   "source": [
    "# Input Layers\n",
    "user_input = Input(shape=(1,), name='User_Input')\n",
    "item_input = Input(shape=(1,), name='Item_Input')"
   ]
  },
  {
   "cell_type": "code",
   "execution_count": 53,
   "metadata": {
    "id": "SuesnyfKccwZ"
   },
   "outputs": [],
   "source": [
    "# Embedding Layers\n",
    "user_embedding = Embedding(input_dim=num_users, output_dim=embedding_dim, name='User_Embedding')(user_input)\n",
    "item_embedding = Embedding(input_dim=num_items, output_dim=embedding_dim, name='Item_Embedding')(item_input)"
   ]
  },
  {
   "cell_type": "code",
   "execution_count": 54,
   "metadata": {
    "id": "jqstvLHscj2z"
   },
   "outputs": [],
   "source": [
    "# Flatten Embeddings\n",
    "user_vec = Flatten()(user_embedding)\n",
    "item_vec = Flatten()(item_embedding)"
   ]
  },
  {
   "cell_type": "code",
   "execution_count": 55,
   "metadata": {
    "id": "bwcLeRuMp5Hr"
   },
   "outputs": [],
   "source": [
    "# Concatenate User and Item Embeddings\n",
    "concatenated = Concatenate()([user_vec, item_vec])"
   ]
  },
  {
   "cell_type": "code",
   "execution_count": 56,
   "metadata": {
    "id": "Z6USpMcOqGSR"
   },
   "outputs": [],
   "source": [
    "# Neural Network Layers\n",
    "dense1 = Dense(128, activation='relu')(concatenated)\n",
    "dropout1 = Dropout(0.3)(dense1)\n",
    "dense2 = Dense(64, activation='relu')(dropout1)\n",
    "dropout2 = Dropout(0.3)(dense2)\n",
    "output = Dense(1)(dropout2)\n"
   ]
  },
  {
   "cell_type": "code",
   "execution_count": 57,
   "metadata": {
    "id": "WynCzzCgqRdJ"
   },
   "outputs": [],
   "source": [
    "# Build Model\n",
    "ncf_model = Model(inputs=[user_input, item_input], outputs=output)\n",
    "ncf_model.compile(optimizer='adam', loss='mse', metrics=['mae'])"
   ]
  },
  {
   "cell_type": "code",
   "execution_count": 58,
   "metadata": {
    "colab": {
     "base_uri": "https://localhost:8080/",
     "height": 561
    },
    "id": "G-MEFHFtqYv5",
    "outputId": "c2fa3381-7604-4433-83b7-10a608968898"
   },
   "outputs": [
    {
     "data": {
      "text/html": [
       "<pre style=\"white-space:pre;overflow-x:auto;line-height:normal;font-family:Menlo,'DejaVu Sans Mono',consolas,'Courier New',monospace\"><span style=\"font-weight: bold\">Model: \"functional\"</span>\n",
       "</pre>\n"
      ],
      "text/plain": [
       "\u001b[1mModel: \"functional\"\u001b[0m\n"
      ]
     },
     "metadata": {},
     "output_type": "display_data"
    },
    {
     "data": {
      "text/html": [
       "<pre style=\"white-space:pre;overflow-x:auto;line-height:normal;font-family:Menlo,'DejaVu Sans Mono',consolas,'Courier New',monospace\">┏━━━━━━━━━━━━━━━━━━━━━┳━━━━━━━━━━━━━━━━━━━┳━━━━━━━━━━━━┳━━━━━━━━━━━━━━━━━━━┓\n",
       "┃<span style=\"font-weight: bold\"> Layer (type)        </span>┃<span style=\"font-weight: bold\"> Output Shape      </span>┃<span style=\"font-weight: bold\">    Param # </span>┃<span style=\"font-weight: bold\"> Connected to      </span>┃\n",
       "┡━━━━━━━━━━━━━━━━━━━━━╇━━━━━━━━━━━━━━━━━━━╇━━━━━━━━━━━━╇━━━━━━━━━━━━━━━━━━━┩\n",
       "│ User_Input          │ (<span style=\"color: #00d7ff; text-decoration-color: #00d7ff\">None</span>, <span style=\"color: #00af00; text-decoration-color: #00af00\">1</span>)         │          <span style=\"color: #00af00; text-decoration-color: #00af00\">0</span> │ -                 │\n",
       "│ (<span style=\"color: #0087ff; text-decoration-color: #0087ff\">InputLayer</span>)        │                   │            │                   │\n",
       "├─────────────────────┼───────────────────┼────────────┼───────────────────┤\n",
       "│ Item_Input          │ (<span style=\"color: #00d7ff; text-decoration-color: #00d7ff\">None</span>, <span style=\"color: #00af00; text-decoration-color: #00af00\">1</span>)         │          <span style=\"color: #00af00; text-decoration-color: #00af00\">0</span> │ -                 │\n",
       "│ (<span style=\"color: #0087ff; text-decoration-color: #0087ff\">InputLayer</span>)        │                   │            │                   │\n",
       "├─────────────────────┼───────────────────┼────────────┼───────────────────┤\n",
       "│ User_Embedding      │ (<span style=\"color: #00d7ff; text-decoration-color: #00d7ff\">None</span>, <span style=\"color: #00af00; text-decoration-color: #00af00\">1</span>, <span style=\"color: #00af00; text-decoration-color: #00af00\">50</span>)     │  <span style=\"color: #00af00; text-decoration-color: #00af00\">5,264,150</span> │ User_Input[<span style=\"color: #00af00; text-decoration-color: #00af00\">0</span>][<span style=\"color: #00af00; text-decoration-color: #00af00\">0</span>]  │\n",
       "│ (<span style=\"color: #0087ff; text-decoration-color: #0087ff\">Embedding</span>)         │                   │            │                   │\n",
       "├─────────────────────┼───────────────────┼────────────┼───────────────────┤\n",
       "│ Item_Embedding      │ (<span style=\"color: #00d7ff; text-decoration-color: #00d7ff\">None</span>, <span style=\"color: #00af00; text-decoration-color: #00af00\">1</span>, <span style=\"color: #00af00; text-decoration-color: #00af00\">50</span>)     │ <span style=\"color: #00af00; text-decoration-color: #00af00\">17,027,800</span> │ Item_Input[<span style=\"color: #00af00; text-decoration-color: #00af00\">0</span>][<span style=\"color: #00af00; text-decoration-color: #00af00\">0</span>]  │\n",
       "│ (<span style=\"color: #0087ff; text-decoration-color: #0087ff\">Embedding</span>)         │                   │            │                   │\n",
       "├─────────────────────┼───────────────────┼────────────┼───────────────────┤\n",
       "│ flatten (<span style=\"color: #0087ff; text-decoration-color: #0087ff\">Flatten</span>)   │ (<span style=\"color: #00d7ff; text-decoration-color: #00d7ff\">None</span>, <span style=\"color: #00af00; text-decoration-color: #00af00\">50</span>)        │          <span style=\"color: #00af00; text-decoration-color: #00af00\">0</span> │ User_Embedding[<span style=\"color: #00af00; text-decoration-color: #00af00\">0</span>… │\n",
       "├─────────────────────┼───────────────────┼────────────┼───────────────────┤\n",
       "│ flatten_1 (<span style=\"color: #0087ff; text-decoration-color: #0087ff\">Flatten</span>) │ (<span style=\"color: #00d7ff; text-decoration-color: #00d7ff\">None</span>, <span style=\"color: #00af00; text-decoration-color: #00af00\">50</span>)        │          <span style=\"color: #00af00; text-decoration-color: #00af00\">0</span> │ Item_Embedding[<span style=\"color: #00af00; text-decoration-color: #00af00\">0</span>… │\n",
       "├─────────────────────┼───────────────────┼────────────┼───────────────────┤\n",
       "│ concatenate         │ (<span style=\"color: #00d7ff; text-decoration-color: #00d7ff\">None</span>, <span style=\"color: #00af00; text-decoration-color: #00af00\">100</span>)       │          <span style=\"color: #00af00; text-decoration-color: #00af00\">0</span> │ flatten[<span style=\"color: #00af00; text-decoration-color: #00af00\">0</span>][<span style=\"color: #00af00; text-decoration-color: #00af00\">0</span>],    │\n",
       "│ (<span style=\"color: #0087ff; text-decoration-color: #0087ff\">Concatenate</span>)       │                   │            │ flatten_1[<span style=\"color: #00af00; text-decoration-color: #00af00\">0</span>][<span style=\"color: #00af00; text-decoration-color: #00af00\">0</span>]   │\n",
       "├─────────────────────┼───────────────────┼────────────┼───────────────────┤\n",
       "│ dense (<span style=\"color: #0087ff; text-decoration-color: #0087ff\">Dense</span>)       │ (<span style=\"color: #00d7ff; text-decoration-color: #00d7ff\">None</span>, <span style=\"color: #00af00; text-decoration-color: #00af00\">128</span>)       │     <span style=\"color: #00af00; text-decoration-color: #00af00\">12,928</span> │ concatenate[<span style=\"color: #00af00; text-decoration-color: #00af00\">0</span>][<span style=\"color: #00af00; text-decoration-color: #00af00\">0</span>] │\n",
       "├─────────────────────┼───────────────────┼────────────┼───────────────────┤\n",
       "│ dropout (<span style=\"color: #0087ff; text-decoration-color: #0087ff\">Dropout</span>)   │ (<span style=\"color: #00d7ff; text-decoration-color: #00d7ff\">None</span>, <span style=\"color: #00af00; text-decoration-color: #00af00\">128</span>)       │          <span style=\"color: #00af00; text-decoration-color: #00af00\">0</span> │ dense[<span style=\"color: #00af00; text-decoration-color: #00af00\">0</span>][<span style=\"color: #00af00; text-decoration-color: #00af00\">0</span>]       │\n",
       "├─────────────────────┼───────────────────┼────────────┼───────────────────┤\n",
       "│ dense_1 (<span style=\"color: #0087ff; text-decoration-color: #0087ff\">Dense</span>)     │ (<span style=\"color: #00d7ff; text-decoration-color: #00d7ff\">None</span>, <span style=\"color: #00af00; text-decoration-color: #00af00\">64</span>)        │      <span style=\"color: #00af00; text-decoration-color: #00af00\">8,256</span> │ dropout[<span style=\"color: #00af00; text-decoration-color: #00af00\">0</span>][<span style=\"color: #00af00; text-decoration-color: #00af00\">0</span>]     │\n",
       "├─────────────────────┼───────────────────┼────────────┼───────────────────┤\n",
       "│ dropout_1 (<span style=\"color: #0087ff; text-decoration-color: #0087ff\">Dropout</span>) │ (<span style=\"color: #00d7ff; text-decoration-color: #00d7ff\">None</span>, <span style=\"color: #00af00; text-decoration-color: #00af00\">64</span>)        │          <span style=\"color: #00af00; text-decoration-color: #00af00\">0</span> │ dense_1[<span style=\"color: #00af00; text-decoration-color: #00af00\">0</span>][<span style=\"color: #00af00; text-decoration-color: #00af00\">0</span>]     │\n",
       "├─────────────────────┼───────────────────┼────────────┼───────────────────┤\n",
       "│ dense_2 (<span style=\"color: #0087ff; text-decoration-color: #0087ff\">Dense</span>)     │ (<span style=\"color: #00d7ff; text-decoration-color: #00d7ff\">None</span>, <span style=\"color: #00af00; text-decoration-color: #00af00\">1</span>)         │         <span style=\"color: #00af00; text-decoration-color: #00af00\">65</span> │ dropout_1[<span style=\"color: #00af00; text-decoration-color: #00af00\">0</span>][<span style=\"color: #00af00; text-decoration-color: #00af00\">0</span>]   │\n",
       "└─────────────────────┴───────────────────┴────────────┴───────────────────┘\n",
       "</pre>\n"
      ],
      "text/plain": [
       "┏━━━━━━━━━━━━━━━━━━━━━┳━━━━━━━━━━━━━━━━━━━┳━━━━━━━━━━━━┳━━━━━━━━━━━━━━━━━━━┓\n",
       "┃\u001b[1m \u001b[0m\u001b[1mLayer (type)       \u001b[0m\u001b[1m \u001b[0m┃\u001b[1m \u001b[0m\u001b[1mOutput Shape     \u001b[0m\u001b[1m \u001b[0m┃\u001b[1m \u001b[0m\u001b[1m   Param #\u001b[0m\u001b[1m \u001b[0m┃\u001b[1m \u001b[0m\u001b[1mConnected to     \u001b[0m\u001b[1m \u001b[0m┃\n",
       "┡━━━━━━━━━━━━━━━━━━━━━╇━━━━━━━━━━━━━━━━━━━╇━━━━━━━━━━━━╇━━━━━━━━━━━━━━━━━━━┩\n",
       "│ User_Input          │ (\u001b[38;5;45mNone\u001b[0m, \u001b[38;5;34m1\u001b[0m)         │          \u001b[38;5;34m0\u001b[0m │ -                 │\n",
       "│ (\u001b[38;5;33mInputLayer\u001b[0m)        │                   │            │                   │\n",
       "├─────────────────────┼───────────────────┼────────────┼───────────────────┤\n",
       "│ Item_Input          │ (\u001b[38;5;45mNone\u001b[0m, \u001b[38;5;34m1\u001b[0m)         │          \u001b[38;5;34m0\u001b[0m │ -                 │\n",
       "│ (\u001b[38;5;33mInputLayer\u001b[0m)        │                   │            │                   │\n",
       "├─────────────────────┼───────────────────┼────────────┼───────────────────┤\n",
       "│ User_Embedding      │ (\u001b[38;5;45mNone\u001b[0m, \u001b[38;5;34m1\u001b[0m, \u001b[38;5;34m50\u001b[0m)     │  \u001b[38;5;34m5,264,150\u001b[0m │ User_Input[\u001b[38;5;34m0\u001b[0m][\u001b[38;5;34m0\u001b[0m]  │\n",
       "│ (\u001b[38;5;33mEmbedding\u001b[0m)         │                   │            │                   │\n",
       "├─────────────────────┼───────────────────┼────────────┼───────────────────┤\n",
       "│ Item_Embedding      │ (\u001b[38;5;45mNone\u001b[0m, \u001b[38;5;34m1\u001b[0m, \u001b[38;5;34m50\u001b[0m)     │ \u001b[38;5;34m17,027,800\u001b[0m │ Item_Input[\u001b[38;5;34m0\u001b[0m][\u001b[38;5;34m0\u001b[0m]  │\n",
       "│ (\u001b[38;5;33mEmbedding\u001b[0m)         │                   │            │                   │\n",
       "├─────────────────────┼───────────────────┼────────────┼───────────────────┤\n",
       "│ flatten (\u001b[38;5;33mFlatten\u001b[0m)   │ (\u001b[38;5;45mNone\u001b[0m, \u001b[38;5;34m50\u001b[0m)        │          \u001b[38;5;34m0\u001b[0m │ User_Embedding[\u001b[38;5;34m0\u001b[0m… │\n",
       "├─────────────────────┼───────────────────┼────────────┼───────────────────┤\n",
       "│ flatten_1 (\u001b[38;5;33mFlatten\u001b[0m) │ (\u001b[38;5;45mNone\u001b[0m, \u001b[38;5;34m50\u001b[0m)        │          \u001b[38;5;34m0\u001b[0m │ Item_Embedding[\u001b[38;5;34m0\u001b[0m… │\n",
       "├─────────────────────┼───────────────────┼────────────┼───────────────────┤\n",
       "│ concatenate         │ (\u001b[38;5;45mNone\u001b[0m, \u001b[38;5;34m100\u001b[0m)       │          \u001b[38;5;34m0\u001b[0m │ flatten[\u001b[38;5;34m0\u001b[0m][\u001b[38;5;34m0\u001b[0m],    │\n",
       "│ (\u001b[38;5;33mConcatenate\u001b[0m)       │                   │            │ flatten_1[\u001b[38;5;34m0\u001b[0m][\u001b[38;5;34m0\u001b[0m]   │\n",
       "├─────────────────────┼───────────────────┼────────────┼───────────────────┤\n",
       "│ dense (\u001b[38;5;33mDense\u001b[0m)       │ (\u001b[38;5;45mNone\u001b[0m, \u001b[38;5;34m128\u001b[0m)       │     \u001b[38;5;34m12,928\u001b[0m │ concatenate[\u001b[38;5;34m0\u001b[0m][\u001b[38;5;34m0\u001b[0m] │\n",
       "├─────────────────────┼───────────────────┼────────────┼───────────────────┤\n",
       "│ dropout (\u001b[38;5;33mDropout\u001b[0m)   │ (\u001b[38;5;45mNone\u001b[0m, \u001b[38;5;34m128\u001b[0m)       │          \u001b[38;5;34m0\u001b[0m │ dense[\u001b[38;5;34m0\u001b[0m][\u001b[38;5;34m0\u001b[0m]       │\n",
       "├─────────────────────┼───────────────────┼────────────┼───────────────────┤\n",
       "│ dense_1 (\u001b[38;5;33mDense\u001b[0m)     │ (\u001b[38;5;45mNone\u001b[0m, \u001b[38;5;34m64\u001b[0m)        │      \u001b[38;5;34m8,256\u001b[0m │ dropout[\u001b[38;5;34m0\u001b[0m][\u001b[38;5;34m0\u001b[0m]     │\n",
       "├─────────────────────┼───────────────────┼────────────┼───────────────────┤\n",
       "│ dropout_1 (\u001b[38;5;33mDropout\u001b[0m) │ (\u001b[38;5;45mNone\u001b[0m, \u001b[38;5;34m64\u001b[0m)        │          \u001b[38;5;34m0\u001b[0m │ dense_1[\u001b[38;5;34m0\u001b[0m][\u001b[38;5;34m0\u001b[0m]     │\n",
       "├─────────────────────┼───────────────────┼────────────┼───────────────────┤\n",
       "│ dense_2 (\u001b[38;5;33mDense\u001b[0m)     │ (\u001b[38;5;45mNone\u001b[0m, \u001b[38;5;34m1\u001b[0m)         │         \u001b[38;5;34m65\u001b[0m │ dropout_1[\u001b[38;5;34m0\u001b[0m][\u001b[38;5;34m0\u001b[0m]   │\n",
       "└─────────────────────┴───────────────────┴────────────┴───────────────────┘\n"
      ]
     },
     "metadata": {},
     "output_type": "display_data"
    },
    {
     "data": {
      "text/html": [
       "<pre style=\"white-space:pre;overflow-x:auto;line-height:normal;font-family:Menlo,'DejaVu Sans Mono',consolas,'Courier New',monospace\"><span style=\"font-weight: bold\"> Total params: </span><span style=\"color: #00af00; text-decoration-color: #00af00\">22,313,199</span> (85.12 MB)\n",
       "</pre>\n"
      ],
      "text/plain": [
       "\u001b[1m Total params: \u001b[0m\u001b[38;5;34m22,313,199\u001b[0m (85.12 MB)\n"
      ]
     },
     "metadata": {},
     "output_type": "display_data"
    },
    {
     "data": {
      "text/html": [
       "<pre style=\"white-space:pre;overflow-x:auto;line-height:normal;font-family:Menlo,'DejaVu Sans Mono',consolas,'Courier New',monospace\"><span style=\"font-weight: bold\"> Trainable params: </span><span style=\"color: #00af00; text-decoration-color: #00af00\">22,313,199</span> (85.12 MB)\n",
       "</pre>\n"
      ],
      "text/plain": [
       "\u001b[1m Trainable params: \u001b[0m\u001b[38;5;34m22,313,199\u001b[0m (85.12 MB)\n"
      ]
     },
     "metadata": {},
     "output_type": "display_data"
    },
    {
     "data": {
      "text/html": [
       "<pre style=\"white-space:pre;overflow-x:auto;line-height:normal;font-family:Menlo,'DejaVu Sans Mono',consolas,'Courier New',monospace\"><span style=\"font-weight: bold\"> Non-trainable params: </span><span style=\"color: #00af00; text-decoration-color: #00af00\">0</span> (0.00 B)\n",
       "</pre>\n"
      ],
      "text/plain": [
       "\u001b[1m Non-trainable params: \u001b[0m\u001b[38;5;34m0\u001b[0m (0.00 B)\n"
      ]
     },
     "metadata": {},
     "output_type": "display_data"
    }
   ],
   "source": [
    "ncf_model.summary()"
   ]
  },
  {
   "cell_type": "code",
   "execution_count": 57,
   "metadata": {
    "colab": {
     "base_uri": "https://localhost:8080/"
    },
    "id": "hqm5UW7xo8Uf",
    "outputId": "20a9622c-6062-4879-ed86-73439c68f05f"
   },
   "outputs": [
    {
     "name": "stdout",
     "output_type": "stream",
     "text": [
      "Epoch 1/10\n",
      "\u001b[1m3594/3594\u001b[0m \u001b[32m━━━━━━━━━━━━━━━━━━━━\u001b[0m\u001b[37m\u001b[0m \u001b[1m1078s\u001b[0m 299ms/step - loss: 12.7903 - mae: 2.9162 - val_loss: 11.2975 - val_mae: 2.7779\n",
      "Epoch 2/10\n",
      "\u001b[1m3594/3594\u001b[0m \u001b[32m━━━━━━━━━━━━━━━━━━━━\u001b[0m\u001b[37m\u001b[0m \u001b[1m1044s\u001b[0m 290ms/step - loss: 9.4711 - mae: 2.3357 - val_loss: 11.8560 - val_mae: 2.7468\n",
      "Epoch 3/10\n",
      "\u001b[1m3594/3594\u001b[0m \u001b[32m━━━━━━━━━━━━━━━━━━━━\u001b[0m\u001b[37m\u001b[0m \u001b[1m993s\u001b[0m 276ms/step - loss: 7.7005 - mae: 1.9804 - val_loss: 12.4751 - val_mae: 2.6944\n",
      "Epoch 4/10\n",
      "\u001b[1m3594/3594\u001b[0m \u001b[32m━━━━━━━━━━━━━━━━━━━━\u001b[0m\u001b[37m\u001b[0m \u001b[1m933s\u001b[0m 260ms/step - loss: 6.4804 - mae: 1.7557 - val_loss: 12.9531 - val_mae: 2.6966\n",
      "Epoch 5/10\n",
      "\u001b[1m3594/3594\u001b[0m \u001b[32m━━━━━━━━━━━━━━━━━━━━\u001b[0m\u001b[37m\u001b[0m \u001b[1m924s\u001b[0m 257ms/step - loss: 5.6153 - mae: 1.6031 - val_loss: 13.4119 - val_mae: 2.7376\n",
      "Epoch 6/10\n",
      "\u001b[1m3594/3594\u001b[0m \u001b[32m━━━━━━━━━━━━━━━━━━━━\u001b[0m\u001b[37m\u001b[0m \u001b[1m925s\u001b[0m 257ms/step - loss: 4.8121 - mae: 1.4637 - val_loss: 13.7340 - val_mae: 2.7316\n",
      "Epoch 7/10\n",
      "\u001b[1m3594/3594\u001b[0m \u001b[32m━━━━━━━━━━━━━━━━━━━━\u001b[0m\u001b[37m\u001b[0m \u001b[1m919s\u001b[0m 256ms/step - loss: 4.1871 - mae: 1.3484 - val_loss: 13.9159 - val_mae: 2.7182\n",
      "Epoch 8/10\n",
      "\u001b[1m3594/3594\u001b[0m \u001b[32m━━━━━━━━━━━━━━━━━━━━\u001b[0m\u001b[37m\u001b[0m \u001b[1m923s\u001b[0m 257ms/step - loss: 3.7365 - mae: 1.2627 - val_loss: 14.1515 - val_mae: 2.7386\n",
      "Epoch 9/10\n",
      "\u001b[1m3594/3594\u001b[0m \u001b[32m━━━━━━━━━━━━━━━━━━━━\u001b[0m\u001b[37m\u001b[0m \u001b[1m920s\u001b[0m 256ms/step - loss: 3.3738 - mae: 1.1927 - val_loss: 14.4008 - val_mae: 2.7551\n",
      "Epoch 10/10\n",
      "\u001b[1m3594/3594\u001b[0m \u001b[32m━━━━━━━━━━━━━━━━━━━━\u001b[0m\u001b[37m\u001b[0m \u001b[1m930s\u001b[0m 259ms/step - loss: 3.1302 - mae: 1.1446 - val_loss: 14.3181 - val_mae: 2.7262\n"
     ]
    }
   ],
   "source": [
    "# Train the Model\n",
    "history = ncf_model.fit(\n",
    "    [X_train[:, 0], X_train[:, 1]], y_train,\n",
    "    validation_data=([X_test[:, 0], X_test[:, 1]], y_test),\n",
    "    batch_size=256,\n",
    "    epochs=10,\n",
    "    verbose=1\n",
    ")"
   ]
  },
  {
   "cell_type": "code",
   "execution_count": 59,
   "metadata": {
    "colab": {
     "base_uri": "https://localhost:8080/"
    },
    "id": "ONqbE8chVnH8",
    "outputId": "1cd6e18c-742a-4f12-ebf1-377e619ffcc7"
   },
   "outputs": [
    {
     "name": "stdout",
     "output_type": "stream",
     "text": [
      "\u001b[1m7187/7187\u001b[0m \u001b[32m━━━━━━━━━━━━━━━━━━━━\u001b[0m\u001b[37m\u001b[0m \u001b[1m14s\u001b[0m 2ms/step - loss: 22.9428 - mae: 2.8661\n",
      "Test Loss: 22.978376388549805, Test MAE: 2.8709969520568848\n"
     ]
    }
   ],
   "source": [
    "# Evaluate Model Performance\n",
    "loss, mae = ncf_model.evaluate([X_test[:, 0], X_test[:, 1]], y_test)\n",
    "print(f\"Test Loss: {loss}, Test MAE: {mae}\")"
   ]
  },
  {
   "cell_type": "code",
   "execution_count": 87,
   "metadata": {
    "id": "bYlsPh18V388"
   },
   "outputs": [],
   "source": [
    "def recommend_books_ncf(user_id, num_recommendations=8):\n",
    "    # Check if the user ID exists in the dataset\n",
    "    if user_id not in user_encoder.classes_:\n",
    "        return f\"User ID '{user_id}' not found in the dataset.\"\n",
    "\n",
    "    # Encode the user ID to match the model's input space\n",
    "    user_index = user_encoder.transform([user_id])[0]\n",
    "\n",
    "    # Generate predictions for all books\n",
    "    all_books = np.arange(len(item_encoder.classes_))\n",
    "    predicted_ratings = ncf_model.predict(\n",
    "        [np.array([user_index] * len(all_books)), all_books], verbose=0\n",
    "    ).flatten()\n",
    "\n",
    "    # Get indices of the top N recommendations\n",
    "    top_indices = predicted_ratings.argsort()[-num_recommendations:][::-1]\n",
    "\n",
    "    # Decode book indices back to original ISBNs\n",
    "    recommended_isbns = item_encoder.inverse_transform(top_indices)\n",
    "\n",
    "    # Retrieve book details and predicted ratings\n",
    "    recommendations = books[books['ISBN'].isin(recommended_isbns)].drop_duplicates()\n",
    "    \n",
    "    # Limit recommendations to the requested number\n",
    "    recommendations = recommendations.iloc[:num_recommendations].copy()\n",
    "\n",
    "\n",
    "    # Return only the specified columns\n",
    "    return recommendations[['Book-Title', 'Book-Author']].reset_index(drop=True)\n"
   ]
  },
  {
   "cell_type": "code",
   "execution_count": 92,
   "metadata": {
    "colab": {
     "base_uri": "https://localhost:8080/",
     "height": 317
    },
    "id": "W3zUbZMwV8CN",
    "outputId": "30cb8f34-8537-4371-fa37-e06554e5b545"
   },
   "outputs": [
    {
     "data": {
      "text/html": [
       "<div>\n",
       "<style scoped>\n",
       "    .dataframe tbody tr th:only-of-type {\n",
       "        vertical-align: middle;\n",
       "    }\n",
       "\n",
       "    .dataframe tbody tr th {\n",
       "        vertical-align: top;\n",
       "    }\n",
       "\n",
       "    .dataframe thead th {\n",
       "        text-align: right;\n",
       "    }\n",
       "</style>\n",
       "<table border=\"1\" class=\"dataframe\">\n",
       "  <thead>\n",
       "    <tr style=\"text-align: right;\">\n",
       "      <th></th>\n",
       "      <th>Book-Title</th>\n",
       "      <th>Book-Author</th>\n",
       "    </tr>\n",
       "  </thead>\n",
       "  <tbody>\n",
       "    <tr>\n",
       "      <th>0</th>\n",
       "      <td>WeiÃ?Ã?er Himmel, schwarzes Eis. Ein Fall fÃ...</td>\n",
       "      <td>Stan Jones</td>\n",
       "    </tr>\n",
       "    <tr>\n",
       "      <th>1</th>\n",
       "      <td>And I Don't Want to Live This Life</td>\n",
       "      <td>Deborah Spungen</td>\n",
       "    </tr>\n",
       "    <tr>\n",
       "      <th>2</th>\n",
       "      <td>Alan Duff's Maori heroes</td>\n",
       "      <td>Alan Duff</td>\n",
       "    </tr>\n",
       "    <tr>\n",
       "      <th>3</th>\n",
       "      <td>The Beasts of Barakai (The Beasts of Barakhai,...</td>\n",
       "      <td>Mickey Zucker Reichert</td>\n",
       "    </tr>\n",
       "    <tr>\n",
       "      <th>4</th>\n",
       "      <td>A Very Special Gift Book of Winning Thoughts: ...</td>\n",
       "      <td>Carl Mays</td>\n",
       "    </tr>\n",
       "    <tr>\n",
       "      <th>5</th>\n",
       "      <td>Highland Sword  (Mystical Highlands)</td>\n",
       "      <td>Ruth Langan</td>\n",
       "    </tr>\n",
       "    <tr>\n",
       "      <th>6</th>\n",
       "      <td>Baby Scrapbooks: Ideas, Tips, and Techniques f...</td>\n",
       "      <td>Editors of Memory Makers Magazine</td>\n",
       "    </tr>\n",
       "    <tr>\n",
       "      <th>7</th>\n",
       "      <td>Time of Her Life</td>\n",
       "      <td>Robb F. Dew</td>\n",
       "    </tr>\n",
       "  </tbody>\n",
       "</table>\n",
       "</div>"
      ],
      "text/plain": [
       "                                          Book-Title  \\\n",
       "0  WeiÃ?Ã?er Himmel, schwarzes Eis. Ein Fall fÃ...   \n",
       "1                 And I Don't Want to Live This Life   \n",
       "2                           Alan Duff's Maori heroes   \n",
       "3  The Beasts of Barakai (The Beasts of Barakhai,...   \n",
       "4  A Very Special Gift Book of Winning Thoughts: ...   \n",
       "5               Highland Sword  (Mystical Highlands)   \n",
       "6  Baby Scrapbooks: Ideas, Tips, and Techniques f...   \n",
       "7                                   Time of Her Life   \n",
       "\n",
       "                         Book-Author  \n",
       "0                         Stan Jones  \n",
       "1                    Deborah Spungen  \n",
       "2                          Alan Duff  \n",
       "3             Mickey Zucker Reichert  \n",
       "4                          Carl Mays  \n",
       "5                        Ruth Langan  \n",
       "6  Editors of Memory Makers Magazine  \n",
       "7                        Robb F. Dew  "
      ]
     },
     "execution_count": 92,
     "metadata": {},
     "output_type": "execute_result"
    }
   ],
   "source": [
    "# Example: Recommend books for a specific user\n",
    "recommend_books_ncf(9)"
   ]
  },
  {
   "cell_type": "code",
   "execution_count": 77,
   "metadata": {
    "id": "_1nS3pG-rWxK"
   },
   "outputs": [],
   "source": [
    "def recommend_books_ncf_by_title(book_title, top_n=10):\n",
    "    # Check if the book title exists in the dataset\n",
    "    if book_title not in books['Book-Title'].values:\n",
    "        return f\"Book title '{book_title}' not found in the dataset.\"\n",
    "\n",
    "    # Encode the book title\n",
    "    book_index = item_encoder.transform([book_title])[0]\n",
    "\n",
    "    # Use the trained NCF model to predict ratings for all books\n",
    "    all_items = np.arange(len(item_encoder.classes_))  # All encoded item indices\n",
    "    predicted_scores = ncf_model.predict([np.array([book_index] * len(all_items)), all_items])\n",
    "\n",
    "    # Get Top N most similar books\n",
    "    top_indices = predicted_scores.flatten().argsort()[-top_n:][::-1]\n",
    "    recommended_items = item_encoder.inverse_transform(top_indices)\n",
    "\n",
    "    # Retrieve book details for recommendations\n",
    "    recommendations = books[books['ISBN'].isin(recommended_items)][['Book-Title', 'Book-Author']].drop_duplicates()\n",
    "    recommendations['Similarity Score'] = predicted_scores.flatten()[top_indices]\n",
    "\n",
    "    return recommendations.reset_index(drop=True)"
   ]
  },
  {
   "cell_type": "code",
   "execution_count": 78,
   "metadata": {
    "colab": {
     "base_uri": "https://localhost:8080/",
     "height": 363
    },
    "id": "YyBM1_y7rb--",
    "outputId": "b111d637-ede2-458f-d9d4-1607edc5942d"
   },
   "outputs": [
    {
     "data": {
      "text/html": [
       "<div>\n",
       "<style scoped>\n",
       "    .dataframe tbody tr th:only-of-type {\n",
       "        vertical-align: middle;\n",
       "    }\n",
       "\n",
       "    .dataframe tbody tr th {\n",
       "        vertical-align: top;\n",
       "    }\n",
       "\n",
       "    .dataframe thead th {\n",
       "        text-align: right;\n",
       "    }\n",
       "</style>\n",
       "<table border=\"1\" class=\"dataframe\">\n",
       "  <thead>\n",
       "    <tr style=\"text-align: right;\">\n",
       "      <th></th>\n",
       "      <th>Book-Title</th>\n",
       "      <th>Book-Author</th>\n",
       "      <th>Image-URL-M</th>\n",
       "      <th>Similarity Score</th>\n",
       "    </tr>\n",
       "  </thead>\n",
       "  <tbody>\n",
       "    <tr>\n",
       "      <th>229</th>\n",
       "      <td>Pet Sematary</td>\n",
       "      <td>Stephen King</td>\n",
       "      <td>http://images.amazon.com/images/P/0451162072.0...</td>\n",
       "      <td>0.308486</td>\n",
       "    </tr>\n",
       "    <tr>\n",
       "      <th>2906</th>\n",
       "      <td>Night Chills</td>\n",
       "      <td>Dean R. Koontz</td>\n",
       "      <td>http://images.amazon.com/images/P/0425098648.0...</td>\n",
       "      <td>0.281460</td>\n",
       "    </tr>\n",
       "    <tr>\n",
       "      <th>3028</th>\n",
       "      <td>Free</td>\n",
       "      <td>Paul Vincent</td>\n",
       "      <td>http://images.amazon.com/images/P/1844262553.0...</td>\n",
       "      <td>0.273166</td>\n",
       "    </tr>\n",
       "    <tr>\n",
       "      <th>3035</th>\n",
       "      <td>The Experiment</td>\n",
       "      <td>John Darnton</td>\n",
       "      <td>http://images.amazon.com/images/P/0525945172.0...</td>\n",
       "      <td>0.250122</td>\n",
       "    </tr>\n",
       "    <tr>\n",
       "      <th>5549</th>\n",
       "      <td>Hideaway</td>\n",
       "      <td>Dean R. Koontz</td>\n",
       "      <td>http://images.amazon.com/images/P/042513525X.0...</td>\n",
       "      <td>0.250122</td>\n",
       "    </tr>\n",
       "    <tr>\n",
       "      <th>8838</th>\n",
       "      <td>MÃ?ÃÂ¶rder ohne Gesicht.</td>\n",
       "      <td>Henning Mankell</td>\n",
       "      <td>http://images.amazon.com/images/P/3423202327.0...</td>\n",
       "      <td>0.237143</td>\n",
       "    </tr>\n",
       "    <tr>\n",
       "      <th>11024</th>\n",
       "      <td>Darkfall</td>\n",
       "      <td>Dean R. Koontz</td>\n",
       "      <td>http://images.amazon.com/images/P/0425104346.0...</td>\n",
       "      <td>0.231905</td>\n",
       "    </tr>\n",
       "    <tr>\n",
       "      <th>11659</th>\n",
       "      <td>Shadowfires</td>\n",
       "      <td>Dean R. Koontz</td>\n",
       "      <td>http://images.amazon.com/images/P/0425136981.0...</td>\n",
       "      <td>0.226606</td>\n",
       "    </tr>\n",
       "    <tr>\n",
       "      <th>20898</th>\n",
       "      <td>CRY IN THE NIGHT, A</td>\n",
       "      <td>MARY HIGGINS CLARK</td>\n",
       "      <td>http://images.amazon.com/images/P/0440110653.0...</td>\n",
       "      <td>0.224457</td>\n",
       "    </tr>\n",
       "    <tr>\n",
       "      <th>26698</th>\n",
       "      <td>Honor Among Thieves</td>\n",
       "      <td>Jeffrey Archer</td>\n",
       "      <td>http://images.amazon.com/images/P/0061092045.0...</td>\n",
       "      <td>0.223089</td>\n",
       "    </tr>\n",
       "  </tbody>\n",
       "</table>\n",
       "</div>"
      ],
      "text/plain": [
       "                       Book-Title         Book-Author  \\\n",
       "229                  Pet Sematary        Stephen King   \n",
       "2906                 Night Chills      Dean R. Koontz   \n",
       "3028                         Free        Paul Vincent   \n",
       "3035               The Experiment        John Darnton   \n",
       "5549                     Hideaway      Dean R. Koontz   \n",
       "8838   MÃ?ÃÂ¶rder ohne Gesicht.     Henning Mankell   \n",
       "11024                    Darkfall      Dean R. Koontz   \n",
       "11659                 Shadowfires      Dean R. Koontz   \n",
       "20898         CRY IN THE NIGHT, A  MARY HIGGINS CLARK   \n",
       "26698         Honor Among Thieves      Jeffrey Archer   \n",
       "\n",
       "                                             Image-URL-M  Similarity Score  \n",
       "229    http://images.amazon.com/images/P/0451162072.0...          0.308486  \n",
       "2906   http://images.amazon.com/images/P/0425098648.0...          0.281460  \n",
       "3028   http://images.amazon.com/images/P/1844262553.0...          0.273166  \n",
       "3035   http://images.amazon.com/images/P/0525945172.0...          0.250122  \n",
       "5549   http://images.amazon.com/images/P/042513525X.0...          0.250122  \n",
       "8838   http://images.amazon.com/images/P/3423202327.0...          0.237143  \n",
       "11024  http://images.amazon.com/images/P/0425104346.0...          0.231905  \n",
       "11659  http://images.amazon.com/images/P/0425136981.0...          0.226606  \n",
       "20898  http://images.amazon.com/images/P/0440110653.0...          0.224457  \n",
       "26698  http://images.amazon.com/images/P/0061092045.0...          0.223089  "
      ]
     },
     "execution_count": 78,
     "metadata": {},
     "output_type": "execute_result"
    }
   ],
   "source": [
    "# Example: Recommend books similar to 'Harry Potter and the Prisoner of Azkaban (Book 3)'\n",
    "recommend_books_cf('Midnight')\n"
   ]
  },
  {
   "cell_type": "code",
   "execution_count": 68,
   "metadata": {},
   "outputs": [],
   "source": [
    "from tensorflow.keras.losses import MeanSquaredError\n",
    "ncf_model.compile(optimizer='adam', loss=MeanSquaredError())\n"
   ]
  },
  {
   "cell_type": "code",
   "execution_count": 71,
   "metadata": {},
   "outputs": [
    {
     "name": "stderr",
     "output_type": "stream",
     "text": [
      "WARNING:absl:You are saving your model as an HDF5 file via `model.save()` or `keras.saving.save_model(model)`. This file format is considered legacy. We recommend using instead the native Keras format, e.g. `model.save('my_model.keras')` or `keras.saving.save_model(model, 'my_model.keras')`. \n"
     ]
    }
   ],
   "source": [
    "ncf_model.save('ncf_model.h5')\n"
   ]
  },
  {
   "cell_type": "code",
   "execution_count": 72,
   "metadata": {},
   "outputs": [
    {
     "name": "stderr",
     "output_type": "stream",
     "text": [
      "WARNING:absl:Compiled the loaded model, but the compiled metrics have yet to be built. `model.compile_metrics` will be empty until you train or evaluate the model.\n"
     ]
    },
    {
     "data": {
      "text/html": [
       "<pre style=\"white-space:pre;overflow-x:auto;line-height:normal;font-family:Menlo,'DejaVu Sans Mono',consolas,'Courier New',monospace\"><span style=\"font-weight: bold\">Model: \"functional\"</span>\n",
       "</pre>\n"
      ],
      "text/plain": [
       "\u001b[1mModel: \"functional\"\u001b[0m\n"
      ]
     },
     "metadata": {},
     "output_type": "display_data"
    },
    {
     "data": {
      "text/html": [
       "<pre style=\"white-space:pre;overflow-x:auto;line-height:normal;font-family:Menlo,'DejaVu Sans Mono',consolas,'Courier New',monospace\">┏━━━━━━━━━━━━━━━━━━━━━┳━━━━━━━━━━━━━━━━━━━┳━━━━━━━━━━━━┳━━━━━━━━━━━━━━━━━━━┓\n",
       "┃<span style=\"font-weight: bold\"> Layer (type)        </span>┃<span style=\"font-weight: bold\"> Output Shape      </span>┃<span style=\"font-weight: bold\">    Param # </span>┃<span style=\"font-weight: bold\"> Connected to      </span>┃\n",
       "┡━━━━━━━━━━━━━━━━━━━━━╇━━━━━━━━━━━━━━━━━━━╇━━━━━━━━━━━━╇━━━━━━━━━━━━━━━━━━━┩\n",
       "│ User_Input          │ (<span style=\"color: #00d7ff; text-decoration-color: #00d7ff\">None</span>, <span style=\"color: #00af00; text-decoration-color: #00af00\">1</span>)         │          <span style=\"color: #00af00; text-decoration-color: #00af00\">0</span> │ -                 │\n",
       "│ (<span style=\"color: #0087ff; text-decoration-color: #0087ff\">InputLayer</span>)        │                   │            │                   │\n",
       "├─────────────────────┼───────────────────┼────────────┼───────────────────┤\n",
       "│ Item_Input          │ (<span style=\"color: #00d7ff; text-decoration-color: #00d7ff\">None</span>, <span style=\"color: #00af00; text-decoration-color: #00af00\">1</span>)         │          <span style=\"color: #00af00; text-decoration-color: #00af00\">0</span> │ -                 │\n",
       "│ (<span style=\"color: #0087ff; text-decoration-color: #0087ff\">InputLayer</span>)        │                   │            │                   │\n",
       "├─────────────────────┼───────────────────┼────────────┼───────────────────┤\n",
       "│ User_Embedding      │ (<span style=\"color: #00d7ff; text-decoration-color: #00d7ff\">None</span>, <span style=\"color: #00af00; text-decoration-color: #00af00\">1</span>, <span style=\"color: #00af00; text-decoration-color: #00af00\">50</span>)     │  <span style=\"color: #00af00; text-decoration-color: #00af00\">5,264,150</span> │ User_Input[<span style=\"color: #00af00; text-decoration-color: #00af00\">0</span>][<span style=\"color: #00af00; text-decoration-color: #00af00\">0</span>]  │\n",
       "│ (<span style=\"color: #0087ff; text-decoration-color: #0087ff\">Embedding</span>)         │                   │            │                   │\n",
       "├─────────────────────┼───────────────────┼────────────┼───────────────────┤\n",
       "│ Item_Embedding      │ (<span style=\"color: #00d7ff; text-decoration-color: #00d7ff\">None</span>, <span style=\"color: #00af00; text-decoration-color: #00af00\">1</span>, <span style=\"color: #00af00; text-decoration-color: #00af00\">50</span>)     │ <span style=\"color: #00af00; text-decoration-color: #00af00\">17,027,800</span> │ Item_Input[<span style=\"color: #00af00; text-decoration-color: #00af00\">0</span>][<span style=\"color: #00af00; text-decoration-color: #00af00\">0</span>]  │\n",
       "│ (<span style=\"color: #0087ff; text-decoration-color: #0087ff\">Embedding</span>)         │                   │            │                   │\n",
       "├─────────────────────┼───────────────────┼────────────┼───────────────────┤\n",
       "│ flatten (<span style=\"color: #0087ff; text-decoration-color: #0087ff\">Flatten</span>)   │ (<span style=\"color: #00d7ff; text-decoration-color: #00d7ff\">None</span>, <span style=\"color: #00af00; text-decoration-color: #00af00\">50</span>)        │          <span style=\"color: #00af00; text-decoration-color: #00af00\">0</span> │ User_Embedding[<span style=\"color: #00af00; text-decoration-color: #00af00\">0</span>… │\n",
       "├─────────────────────┼───────────────────┼────────────┼───────────────────┤\n",
       "│ flatten_1 (<span style=\"color: #0087ff; text-decoration-color: #0087ff\">Flatten</span>) │ (<span style=\"color: #00d7ff; text-decoration-color: #00d7ff\">None</span>, <span style=\"color: #00af00; text-decoration-color: #00af00\">50</span>)        │          <span style=\"color: #00af00; text-decoration-color: #00af00\">0</span> │ Item_Embedding[<span style=\"color: #00af00; text-decoration-color: #00af00\">0</span>… │\n",
       "├─────────────────────┼───────────────────┼────────────┼───────────────────┤\n",
       "│ concatenate         │ (<span style=\"color: #00d7ff; text-decoration-color: #00d7ff\">None</span>, <span style=\"color: #00af00; text-decoration-color: #00af00\">100</span>)       │          <span style=\"color: #00af00; text-decoration-color: #00af00\">0</span> │ flatten[<span style=\"color: #00af00; text-decoration-color: #00af00\">0</span>][<span style=\"color: #00af00; text-decoration-color: #00af00\">0</span>],    │\n",
       "│ (<span style=\"color: #0087ff; text-decoration-color: #0087ff\">Concatenate</span>)       │                   │            │ flatten_1[<span style=\"color: #00af00; text-decoration-color: #00af00\">0</span>][<span style=\"color: #00af00; text-decoration-color: #00af00\">0</span>]   │\n",
       "├─────────────────────┼───────────────────┼────────────┼───────────────────┤\n",
       "│ dense (<span style=\"color: #0087ff; text-decoration-color: #0087ff\">Dense</span>)       │ (<span style=\"color: #00d7ff; text-decoration-color: #00d7ff\">None</span>, <span style=\"color: #00af00; text-decoration-color: #00af00\">128</span>)       │     <span style=\"color: #00af00; text-decoration-color: #00af00\">12,928</span> │ concatenate[<span style=\"color: #00af00; text-decoration-color: #00af00\">0</span>][<span style=\"color: #00af00; text-decoration-color: #00af00\">0</span>] │\n",
       "├─────────────────────┼───────────────────┼────────────┼───────────────────┤\n",
       "│ dropout (<span style=\"color: #0087ff; text-decoration-color: #0087ff\">Dropout</span>)   │ (<span style=\"color: #00d7ff; text-decoration-color: #00d7ff\">None</span>, <span style=\"color: #00af00; text-decoration-color: #00af00\">128</span>)       │          <span style=\"color: #00af00; text-decoration-color: #00af00\">0</span> │ dense[<span style=\"color: #00af00; text-decoration-color: #00af00\">0</span>][<span style=\"color: #00af00; text-decoration-color: #00af00\">0</span>]       │\n",
       "├─────────────────────┼───────────────────┼────────────┼───────────────────┤\n",
       "│ dense_1 (<span style=\"color: #0087ff; text-decoration-color: #0087ff\">Dense</span>)     │ (<span style=\"color: #00d7ff; text-decoration-color: #00d7ff\">None</span>, <span style=\"color: #00af00; text-decoration-color: #00af00\">64</span>)        │      <span style=\"color: #00af00; text-decoration-color: #00af00\">8,256</span> │ dropout[<span style=\"color: #00af00; text-decoration-color: #00af00\">0</span>][<span style=\"color: #00af00; text-decoration-color: #00af00\">0</span>]     │\n",
       "├─────────────────────┼───────────────────┼────────────┼───────────────────┤\n",
       "│ dropout_1 (<span style=\"color: #0087ff; text-decoration-color: #0087ff\">Dropout</span>) │ (<span style=\"color: #00d7ff; text-decoration-color: #00d7ff\">None</span>, <span style=\"color: #00af00; text-decoration-color: #00af00\">64</span>)        │          <span style=\"color: #00af00; text-decoration-color: #00af00\">0</span> │ dense_1[<span style=\"color: #00af00; text-decoration-color: #00af00\">0</span>][<span style=\"color: #00af00; text-decoration-color: #00af00\">0</span>]     │\n",
       "├─────────────────────┼───────────────────┼────────────┼───────────────────┤\n",
       "│ dense_2 (<span style=\"color: #0087ff; text-decoration-color: #0087ff\">Dense</span>)     │ (<span style=\"color: #00d7ff; text-decoration-color: #00d7ff\">None</span>, <span style=\"color: #00af00; text-decoration-color: #00af00\">1</span>)         │         <span style=\"color: #00af00; text-decoration-color: #00af00\">65</span> │ dropout_1[<span style=\"color: #00af00; text-decoration-color: #00af00\">0</span>][<span style=\"color: #00af00; text-decoration-color: #00af00\">0</span>]   │\n",
       "└─────────────────────┴───────────────────┴────────────┴───────────────────┘\n",
       "</pre>\n"
      ],
      "text/plain": [
       "┏━━━━━━━━━━━━━━━━━━━━━┳━━━━━━━━━━━━━━━━━━━┳━━━━━━━━━━━━┳━━━━━━━━━━━━━━━━━━━┓\n",
       "┃\u001b[1m \u001b[0m\u001b[1mLayer (type)       \u001b[0m\u001b[1m \u001b[0m┃\u001b[1m \u001b[0m\u001b[1mOutput Shape     \u001b[0m\u001b[1m \u001b[0m┃\u001b[1m \u001b[0m\u001b[1m   Param #\u001b[0m\u001b[1m \u001b[0m┃\u001b[1m \u001b[0m\u001b[1mConnected to     \u001b[0m\u001b[1m \u001b[0m┃\n",
       "┡━━━━━━━━━━━━━━━━━━━━━╇━━━━━━━━━━━━━━━━━━━╇━━━━━━━━━━━━╇━━━━━━━━━━━━━━━━━━━┩\n",
       "│ User_Input          │ (\u001b[38;5;45mNone\u001b[0m, \u001b[38;5;34m1\u001b[0m)         │          \u001b[38;5;34m0\u001b[0m │ -                 │\n",
       "│ (\u001b[38;5;33mInputLayer\u001b[0m)        │                   │            │                   │\n",
       "├─────────────────────┼───────────────────┼────────────┼───────────────────┤\n",
       "│ Item_Input          │ (\u001b[38;5;45mNone\u001b[0m, \u001b[38;5;34m1\u001b[0m)         │          \u001b[38;5;34m0\u001b[0m │ -                 │\n",
       "│ (\u001b[38;5;33mInputLayer\u001b[0m)        │                   │            │                   │\n",
       "├─────────────────────┼───────────────────┼────────────┼───────────────────┤\n",
       "│ User_Embedding      │ (\u001b[38;5;45mNone\u001b[0m, \u001b[38;5;34m1\u001b[0m, \u001b[38;5;34m50\u001b[0m)     │  \u001b[38;5;34m5,264,150\u001b[0m │ User_Input[\u001b[38;5;34m0\u001b[0m][\u001b[38;5;34m0\u001b[0m]  │\n",
       "│ (\u001b[38;5;33mEmbedding\u001b[0m)         │                   │            │                   │\n",
       "├─────────────────────┼───────────────────┼────────────┼───────────────────┤\n",
       "│ Item_Embedding      │ (\u001b[38;5;45mNone\u001b[0m, \u001b[38;5;34m1\u001b[0m, \u001b[38;5;34m50\u001b[0m)     │ \u001b[38;5;34m17,027,800\u001b[0m │ Item_Input[\u001b[38;5;34m0\u001b[0m][\u001b[38;5;34m0\u001b[0m]  │\n",
       "│ (\u001b[38;5;33mEmbedding\u001b[0m)         │                   │            │                   │\n",
       "├─────────────────────┼───────────────────┼────────────┼───────────────────┤\n",
       "│ flatten (\u001b[38;5;33mFlatten\u001b[0m)   │ (\u001b[38;5;45mNone\u001b[0m, \u001b[38;5;34m50\u001b[0m)        │          \u001b[38;5;34m0\u001b[0m │ User_Embedding[\u001b[38;5;34m0\u001b[0m… │\n",
       "├─────────────────────┼───────────────────┼────────────┼───────────────────┤\n",
       "│ flatten_1 (\u001b[38;5;33mFlatten\u001b[0m) │ (\u001b[38;5;45mNone\u001b[0m, \u001b[38;5;34m50\u001b[0m)        │          \u001b[38;5;34m0\u001b[0m │ Item_Embedding[\u001b[38;5;34m0\u001b[0m… │\n",
       "├─────────────────────┼───────────────────┼────────────┼───────────────────┤\n",
       "│ concatenate         │ (\u001b[38;5;45mNone\u001b[0m, \u001b[38;5;34m100\u001b[0m)       │          \u001b[38;5;34m0\u001b[0m │ flatten[\u001b[38;5;34m0\u001b[0m][\u001b[38;5;34m0\u001b[0m],    │\n",
       "│ (\u001b[38;5;33mConcatenate\u001b[0m)       │                   │            │ flatten_1[\u001b[38;5;34m0\u001b[0m][\u001b[38;5;34m0\u001b[0m]   │\n",
       "├─────────────────────┼───────────────────┼────────────┼───────────────────┤\n",
       "│ dense (\u001b[38;5;33mDense\u001b[0m)       │ (\u001b[38;5;45mNone\u001b[0m, \u001b[38;5;34m128\u001b[0m)       │     \u001b[38;5;34m12,928\u001b[0m │ concatenate[\u001b[38;5;34m0\u001b[0m][\u001b[38;5;34m0\u001b[0m] │\n",
       "├─────────────────────┼───────────────────┼────────────┼───────────────────┤\n",
       "│ dropout (\u001b[38;5;33mDropout\u001b[0m)   │ (\u001b[38;5;45mNone\u001b[0m, \u001b[38;5;34m128\u001b[0m)       │          \u001b[38;5;34m0\u001b[0m │ dense[\u001b[38;5;34m0\u001b[0m][\u001b[38;5;34m0\u001b[0m]       │\n",
       "├─────────────────────┼───────────────────┼────────────┼───────────────────┤\n",
       "│ dense_1 (\u001b[38;5;33mDense\u001b[0m)     │ (\u001b[38;5;45mNone\u001b[0m, \u001b[38;5;34m64\u001b[0m)        │      \u001b[38;5;34m8,256\u001b[0m │ dropout[\u001b[38;5;34m0\u001b[0m][\u001b[38;5;34m0\u001b[0m]     │\n",
       "├─────────────────────┼───────────────────┼────────────┼───────────────────┤\n",
       "│ dropout_1 (\u001b[38;5;33mDropout\u001b[0m) │ (\u001b[38;5;45mNone\u001b[0m, \u001b[38;5;34m64\u001b[0m)        │          \u001b[38;5;34m0\u001b[0m │ dense_1[\u001b[38;5;34m0\u001b[0m][\u001b[38;5;34m0\u001b[0m]     │\n",
       "├─────────────────────┼───────────────────┼────────────┼───────────────────┤\n",
       "│ dense_2 (\u001b[38;5;33mDense\u001b[0m)     │ (\u001b[38;5;45mNone\u001b[0m, \u001b[38;5;34m1\u001b[0m)         │         \u001b[38;5;34m65\u001b[0m │ dropout_1[\u001b[38;5;34m0\u001b[0m][\u001b[38;5;34m0\u001b[0m]   │\n",
       "└─────────────────────┴───────────────────┴────────────┴───────────────────┘\n"
      ]
     },
     "metadata": {},
     "output_type": "display_data"
    },
    {
     "data": {
      "text/html": [
       "<pre style=\"white-space:pre;overflow-x:auto;line-height:normal;font-family:Menlo,'DejaVu Sans Mono',consolas,'Courier New',monospace\"><span style=\"font-weight: bold\"> Total params: </span><span style=\"color: #00af00; text-decoration-color: #00af00\">22,313,201</span> (85.12 MB)\n",
       "</pre>\n"
      ],
      "text/plain": [
       "\u001b[1m Total params: \u001b[0m\u001b[38;5;34m22,313,201\u001b[0m (85.12 MB)\n"
      ]
     },
     "metadata": {},
     "output_type": "display_data"
    },
    {
     "data": {
      "text/html": [
       "<pre style=\"white-space:pre;overflow-x:auto;line-height:normal;font-family:Menlo,'DejaVu Sans Mono',consolas,'Courier New',monospace\"><span style=\"font-weight: bold\"> Trainable params: </span><span style=\"color: #00af00; text-decoration-color: #00af00\">22,313,199</span> (85.12 MB)\n",
       "</pre>\n"
      ],
      "text/plain": [
       "\u001b[1m Trainable params: \u001b[0m\u001b[38;5;34m22,313,199\u001b[0m (85.12 MB)\n"
      ]
     },
     "metadata": {},
     "output_type": "display_data"
    },
    {
     "data": {
      "text/html": [
       "<pre style=\"white-space:pre;overflow-x:auto;line-height:normal;font-family:Menlo,'DejaVu Sans Mono',consolas,'Courier New',monospace\"><span style=\"font-weight: bold\"> Non-trainable params: </span><span style=\"color: #00af00; text-decoration-color: #00af00\">0</span> (0.00 B)\n",
       "</pre>\n"
      ],
      "text/plain": [
       "\u001b[1m Non-trainable params: \u001b[0m\u001b[38;5;34m0\u001b[0m (0.00 B)\n"
      ]
     },
     "metadata": {},
     "output_type": "display_data"
    },
    {
     "data": {
      "text/html": [
       "<pre style=\"white-space:pre;overflow-x:auto;line-height:normal;font-family:Menlo,'DejaVu Sans Mono',consolas,'Courier New',monospace\"><span style=\"font-weight: bold\"> Optimizer params: </span><span style=\"color: #00af00; text-decoration-color: #00af00\">2</span> (12.00 B)\n",
       "</pre>\n"
      ],
      "text/plain": [
       "\u001b[1m Optimizer params: \u001b[0m\u001b[38;5;34m2\u001b[0m (12.00 B)\n"
      ]
     },
     "metadata": {},
     "output_type": "display_data"
    }
   ],
   "source": [
    "from tensorflow.keras.models import load_model\n",
    "\n",
    "# Load the model\n",
    "ncf_model = load_model('ncf_model.h5', custom_objects={'MeanSquaredError': MeanSquaredError})\n",
    "\n",
    "# Print the model summary to inspect its input layers\n",
    "ncf_model.summary()\n"
   ]
  }
 ],
 "metadata": {
  "colab": {
   "provenance": []
  },
  "kernelspec": {
   "display_name": "myenv",
   "language": "python",
   "name": "python3"
  },
  "language_info": {
   "codemirror_mode": {
    "name": "ipython",
    "version": 3
   },
   "file_extension": ".py",
   "mimetype": "text/x-python",
   "name": "python",
   "nbconvert_exporter": "python",
   "pygments_lexer": "ipython3",
   "version": "3.9.13"
  }
 },
 "nbformat": 4,
 "nbformat_minor": 0
}
